{
 "cells": [
  {
   "cell_type": "markdown",
   "metadata": {},
   "source": [
    "## Analyze A/B Test Results\n",
    "\n",
    "You may either submit your notebook through the workspace here, or you may work from your local machine and submit through the next page.  Either way assure that your code passes the project [RUBRIC](https://review.udacity.com/#!/projects/37e27304-ad47-4eb0-a1ab-8c12f60e43d0/rubric).  **Please save regularly.**\n",
    "\n",
    "This project will assure you have mastered the subjects covered in the statistics lessons.  The hope is to have this project be as comprehensive of these topics as possible.  Good luck!\n",
    "\n",
    "## Table of Contents\n",
    "- [Introduction](#intro)\n",
    "- [Part I - Probability](#probability)\n",
    "- [Part II - A/B Test](#ab_test)\n",
    "- [Part III - Regression](#regression)\n",
    "\n",
    "\n",
    "<a id='intro'></a>\n",
    "### Introduction\n",
    "\n",
    "A/B tests are very commonly performed by data analysts and data scientists.  It is important that you get some practice working with the difficulties of these \n",
    "\n",
    "For this project, you will be working to understand the results of an A/B test run by an e-commerce website.  Your goal is to work through this notebook to help the company understand if they should implement the new page, keep the old page, or perhaps run the experiment longer to make their decision.\n",
    "\n",
    "**As you work through this notebook, follow along in the classroom and answer the corresponding quiz questions associated with each question.** The labels for each classroom concept are provided for each question.  This will assure you are on the right track as you work through the project, and you can feel more confident in your final submission meeting the criteria.  As a final check, assure you meet all the criteria on the [RUBRIC](https://review.udacity.com/#!/projects/37e27304-ad47-4eb0-a1ab-8c12f60e43d0/rubric).\n",
    "\n",
    "<a id='probability'></a>\n",
    "#### Part I - Probability\n",
    "\n",
    "To get started, let's import our libraries."
   ]
  },
  {
   "cell_type": "code",
   "execution_count": 32,
   "metadata": {},
   "outputs": [],
   "source": [
    "import pandas as pd\n",
    "import numpy as np\n",
    "import random\n",
    "import matplotlib.pyplot as plt\n",
    "%matplotlib inline\n",
    "#We are setting the seed to assure you get the same answers on quizzes as we set up\n",
    "random.seed(42)"
   ]
  },
  {
   "cell_type": "markdown",
   "metadata": {},
   "source": [
    "`1.` Now, read in the `ab_data.csv` data. Store it in `df`.  **Use your dataframe to answer the questions in Quiz 1 of the classroom.**\n",
    "\n",
    "a. Read in the dataset and take a look at the top few rows here:"
   ]
  },
  {
   "cell_type": "code",
   "execution_count": 33,
   "metadata": {
    "scrolled": true
   },
   "outputs": [
    {
     "data": {
      "text/html": [
       "<div>\n",
       "<style scoped>\n",
       "    .dataframe tbody tr th:only-of-type {\n",
       "        vertical-align: middle;\n",
       "    }\n",
       "\n",
       "    .dataframe tbody tr th {\n",
       "        vertical-align: top;\n",
       "    }\n",
       "\n",
       "    .dataframe thead th {\n",
       "        text-align: right;\n",
       "    }\n",
       "</style>\n",
       "<table border=\"1\" class=\"dataframe\">\n",
       "  <thead>\n",
       "    <tr style=\"text-align: right;\">\n",
       "      <th></th>\n",
       "      <th>user_id</th>\n",
       "      <th>timestamp</th>\n",
       "      <th>group</th>\n",
       "      <th>landing_page</th>\n",
       "      <th>converted</th>\n",
       "    </tr>\n",
       "  </thead>\n",
       "  <tbody>\n",
       "    <tr>\n",
       "      <th>0</th>\n",
       "      <td>851104</td>\n",
       "      <td>2017-01-21 22:11:48.556739</td>\n",
       "      <td>control</td>\n",
       "      <td>old_page</td>\n",
       "      <td>0</td>\n",
       "    </tr>\n",
       "    <tr>\n",
       "      <th>1</th>\n",
       "      <td>804228</td>\n",
       "      <td>2017-01-12 08:01:45.159739</td>\n",
       "      <td>control</td>\n",
       "      <td>old_page</td>\n",
       "      <td>0</td>\n",
       "    </tr>\n",
       "    <tr>\n",
       "      <th>2</th>\n",
       "      <td>661590</td>\n",
       "      <td>2017-01-11 16:55:06.154213</td>\n",
       "      <td>treatment</td>\n",
       "      <td>new_page</td>\n",
       "      <td>0</td>\n",
       "    </tr>\n",
       "    <tr>\n",
       "      <th>3</th>\n",
       "      <td>853541</td>\n",
       "      <td>2017-01-08 18:28:03.143765</td>\n",
       "      <td>treatment</td>\n",
       "      <td>new_page</td>\n",
       "      <td>0</td>\n",
       "    </tr>\n",
       "    <tr>\n",
       "      <th>4</th>\n",
       "      <td>864975</td>\n",
       "      <td>2017-01-21 01:52:26.210827</td>\n",
       "      <td>control</td>\n",
       "      <td>old_page</td>\n",
       "      <td>1</td>\n",
       "    </tr>\n",
       "  </tbody>\n",
       "</table>\n",
       "</div>"
      ],
      "text/plain": [
       "   user_id                   timestamp      group landing_page  converted\n",
       "0   851104  2017-01-21 22:11:48.556739    control     old_page          0\n",
       "1   804228  2017-01-12 08:01:45.159739    control     old_page          0\n",
       "2   661590  2017-01-11 16:55:06.154213  treatment     new_page          0\n",
       "3   853541  2017-01-08 18:28:03.143765  treatment     new_page          0\n",
       "4   864975  2017-01-21 01:52:26.210827    control     old_page          1"
      ]
     },
     "execution_count": 33,
     "metadata": {},
     "output_type": "execute_result"
    }
   ],
   "source": [
    "#I will import data from CSV file to pd data frame and I will check the first couple rows and i will name ab stand for A/B test\n",
    "ab=pd.read_csv('ab_data.csv')\n",
    "ab.head()"
   ]
  },
  {
   "cell_type": "markdown",
   "metadata": {},
   "source": [
    "### findings \n",
    "In the above table contain the following:\n",
    "1. user_id : should be unique\n",
    "2. timestap: time of the events\n",
    "3. group: Weather control or treatment\n",
    "4. landing_page: weather old_page or new_page\n",
    "5. converted: Yes or No which represented as 0's or 1's"
   ]
  },
  {
   "cell_type": "markdown",
   "metadata": {},
   "source": [
    "b. Use the cell below to find the number of rows in the dataset."
   ]
  },
  {
   "cell_type": "code",
   "execution_count": 34,
   "metadata": {},
   "outputs": [
    {
     "name": "stdout",
     "output_type": "stream",
     "text": [
      "Number of A/B test is: (294,478) rows\n"
     ]
    }
   ],
   "source": [
    "# number of total rows\n",
    "print(\"Number of A/B test is: ({:,})\".format(ab.shape[0]),'rows')"
   ]
  },
  {
   "cell_type": "markdown",
   "metadata": {},
   "source": [
    "c. The number of unique users in the dataset."
   ]
  },
  {
   "cell_type": "code",
   "execution_count": 35,
   "metadata": {},
   "outputs": [
    {
     "name": "stdout",
     "output_type": "stream",
     "text": [
      "Number of unique user_id is : (290,584)  rows\n"
     ]
    }
   ],
   "source": [
    "#number of unique rows\n",
    "print(\"Number of unique user_id is : ({:,}) \".format(len(ab['user_id'].unique())),'rows')"
   ]
  },
  {
   "cell_type": "markdown",
   "metadata": {
    "collapsed": true
   },
   "source": [
    "d. The proportion of users converted."
   ]
  },
  {
   "cell_type": "code",
   "execution_count": 36,
   "metadata": {},
   "outputs": [
    {
     "name": "stdout",
     "output_type": "stream",
     "text": [
      "The proportion of users converted is (0.11965919355605512)\n"
     ]
    }
   ],
   "source": [
    "# propotion of user converted \n",
    "print(\"The proportion of users converted is ({:,})\".format(ab['converted'].mean()))"
   ]
  },
  {
   "cell_type": "markdown",
   "metadata": {
    "collapsed": true
   },
   "source": [
    "e. The number of times the `new_page` and `treatment` don't match."
   ]
  },
  {
   "cell_type": "code",
   "execution_count": 37,
   "metadata": {},
   "outputs": [
    {
     "name": "stdout",
     "output_type": "stream",
     "text": [
      "The number of times the new_page and treatment don't match (3,893) rows\n"
     ]
    }
   ],
   "source": [
    "# number of rows when \"group=treatment not line up with landing_page= new_page\"\n",
    "# so we will find it in the oppisit why by finding (treatment & old_page) or (cotrol & old_page) so the rest will be our output\n",
    "\n",
    "x=ab.query('(group == \"treatment\" and landing_page == \"old_page\") or (group == \"control\" and landing_page == \"new_page\")')['user_id'].count()\n",
    "print(\"The number of times the new_page and treatment don't match ({:,})\".format(x),\"rows\")"
   ]
  },
  {
   "cell_type": "markdown",
   "metadata": {},
   "source": [
    "f. Do any of the rows have missing values?"
   ]
  },
  {
   "cell_type": "code",
   "execution_count": 38,
   "metadata": {},
   "outputs": [
    {
     "data": {
      "text/plain": [
       "user_id         0\n",
       "timestamp       0\n",
       "group           0\n",
       "landing_page    0\n",
       "converted       0\n",
       "dtype: int64"
      ]
     },
     "execution_count": 38,
     "metadata": {},
     "output_type": "execute_result"
    }
   ],
   "source": [
    "#finding the number of missing data.\n",
    "ab.isnull().sum()"
   ]
  },
  {
   "cell_type": "markdown",
   "metadata": {},
   "source": [
    "The anser to question \"f\" is No, we do not have any missing data"
   ]
  },
  {
   "cell_type": "markdown",
   "metadata": {},
   "source": [
    "`2.` For the rows where **treatment** does not match with **new_page** or **control** does not match with **old_page**, we cannot be sure if this row truly received the new or old page.  Use **Quiz 2** in the classroom to figure out how we should handle these rows.  \n",
    "\n",
    "a. Now use the answer to the quiz to create a new dataset that meets the specifications from the quiz.  Store your new dataframe in **df2**."
   ]
  },
  {
   "cell_type": "code",
   "execution_count": 39,
   "metadata": {},
   "outputs": [
    {
     "name": "stdout",
     "output_type": "stream",
     "text": [
      "Number of rows of new df ab2 (290,585)\n"
     ]
    }
   ],
   "source": [
    "# first of all we need new copy of our ab data farme to work with it then extract only dataframe that hold treatment&new_page only\n",
    "ab2=ab.query('(group==\"treatment\" & landing_page==\"new_page\") or (group==\"control\" & landing_page==\"old_page\")')\n",
    "print(\"Number of rows of new df ab2 ({:,})\".format(len(ab2)))"
   ]
  },
  {
   "cell_type": "code",
   "execution_count": 40,
   "metadata": {},
   "outputs": [
    {
     "data": {
      "text/plain": [
       "0"
      ]
     },
     "execution_count": 40,
     "metadata": {},
     "output_type": "execute_result"
    }
   ],
   "source": [
    "# Double Check all of the correct rows were removed - this should be 0\n",
    "#ab2[((ab2['group'] == 'treatment') == (ab2['landing_page'] == 'new_page')) == False].shape[0]\n",
    "len(ab2.query('(group==\"treatment\" & landing_page==\"old_page\") or (group==\"control\" & landing_page==\"new_page\")'))"
   ]
  },
  {
   "cell_type": "markdown",
   "metadata": {},
   "source": [
    "`3.` Use **df2** and the cells below to answer questions for **Quiz3** in the classroom."
   ]
  },
  {
   "cell_type": "markdown",
   "metadata": {},
   "source": [
    "a. How many unique **user_id**s are in **df2**?"
   ]
  },
  {
   "cell_type": "code",
   "execution_count": 41,
   "metadata": {},
   "outputs": [
    {
     "name": "stdout",
     "output_type": "stream",
     "text": [
      "Number of unique user_id is (290,584)\n"
     ]
    }
   ],
   "source": [
    "print(\"Number of unique user_id is ({:,})\".format(ab2['user_id'].nunique()))"
   ]
  },
  {
   "cell_type": "markdown",
   "metadata": {
    "collapsed": true
   },
   "source": [
    "b. There is one **user_id** repeated in **df2**.  What is it?"
   ]
  },
  {
   "cell_type": "code",
   "execution_count": 42,
   "metadata": {},
   "outputs": [
    {
     "name": "stdout",
     "output_type": "stream",
     "text": [
      "Number of repeated usder_id after cleaning (2)\n"
     ]
    }
   ],
   "source": [
    "## find duplicated user_id\n",
    "print(\"Number of repeated usder_id after cleaning ({:,})\".format(len(ab2[ab2.duplicated(['user_id'], keep=False)]['user_id'])))"
   ]
  },
  {
   "cell_type": "markdown",
   "metadata": {},
   "source": [
    "c. What is the row information for the repeat **user_id**? "
   ]
  },
  {
   "cell_type": "code",
   "execution_count": 43,
   "metadata": {},
   "outputs": [
    {
     "data": {
      "text/html": [
       "<div>\n",
       "<style scoped>\n",
       "    .dataframe tbody tr th:only-of-type {\n",
       "        vertical-align: middle;\n",
       "    }\n",
       "\n",
       "    .dataframe tbody tr th {\n",
       "        vertical-align: top;\n",
       "    }\n",
       "\n",
       "    .dataframe thead th {\n",
       "        text-align: right;\n",
       "    }\n",
       "</style>\n",
       "<table border=\"1\" class=\"dataframe\">\n",
       "  <thead>\n",
       "    <tr style=\"text-align: right;\">\n",
       "      <th></th>\n",
       "      <th>user_id</th>\n",
       "      <th>timestamp</th>\n",
       "      <th>group</th>\n",
       "      <th>landing_page</th>\n",
       "      <th>converted</th>\n",
       "    </tr>\n",
       "  </thead>\n",
       "  <tbody>\n",
       "    <tr>\n",
       "      <th>1899</th>\n",
       "      <td>773192</td>\n",
       "      <td>2017-01-09 05:37:58.781806</td>\n",
       "      <td>treatment</td>\n",
       "      <td>new_page</td>\n",
       "      <td>0</td>\n",
       "    </tr>\n",
       "    <tr>\n",
       "      <th>2893</th>\n",
       "      <td>773192</td>\n",
       "      <td>2017-01-14 02:55:59.590927</td>\n",
       "      <td>treatment</td>\n",
       "      <td>new_page</td>\n",
       "      <td>0</td>\n",
       "    </tr>\n",
       "  </tbody>\n",
       "</table>\n",
       "</div>"
      ],
      "text/plain": [
       "      user_id                   timestamp      group landing_page  converted\n",
       "1899   773192  2017-01-09 05:37:58.781806  treatment     new_page          0\n",
       "2893   773192  2017-01-14 02:55:59.590927  treatment     new_page          0"
      ]
     },
     "execution_count": 43,
     "metadata": {},
     "output_type": "execute_result"
    }
   ],
   "source": [
    "# take a look at duplicated user_id\n",
    "ab2[ab2.duplicated(['user_id'],keep=False)]"
   ]
  },
  {
   "cell_type": "markdown",
   "metadata": {},
   "source": [
    "I assume that was human errior becouse diffrent timestamp which mean someone enter user_id twice"
   ]
  },
  {
   "cell_type": "markdown",
   "metadata": {},
   "source": [
    "d. Remove **one** of the rows with a duplicate **user_id**, but keep your dataframe as **df2**."
   ]
  },
  {
   "cell_type": "code",
   "execution_count": 44,
   "metadata": {
    "scrolled": true
   },
   "outputs": [],
   "source": [
    "ab2=ab2.drop_duplicates(['user_id'],keep='first')\n",
    "#df2.drop(2893,inplace=True)"
   ]
  },
  {
   "cell_type": "code",
   "execution_count": 45,
   "metadata": {
    "scrolled": true
   },
   "outputs": [
    {
     "data": {
      "text/plain": [
       "0"
      ]
     },
     "execution_count": 45,
     "metadata": {},
     "output_type": "execute_result"
    }
   ],
   "source": [
    "## check duplicated user_id again\n",
    "len(ab2[ab2.duplicated(['user_id'], keep=False)]['user_id'])"
   ]
  },
  {
   "cell_type": "markdown",
   "metadata": {},
   "source": [
    "`4.` Use **df2** in the cells below to answer the quiz questions related to **Quiz 4** in the classroom.\n",
    "\n",
    "a. What is the probability of an individual converting regardless of the page they receive?"
   ]
  },
  {
   "cell_type": "code",
   "execution_count": 46,
   "metadata": {},
   "outputs": [
    {
     "name": "stdout",
     "output_type": "stream",
     "text": [
      "The proportion of users converted is (0.11959708724499628)\n"
     ]
    }
   ],
   "source": [
    "# propotion of user converted \n",
    "print(\"The proportion of users converted is ({:,})\".format(ab2['converted'].mean()))\n"
   ]
  },
  {
   "cell_type": "markdown",
   "metadata": {},
   "source": [
    "b. Given that an individual was in the `control` group, what is the probability they converted?"
   ]
  },
  {
   "cell_type": "code",
   "execution_count": 47,
   "metadata": {},
   "outputs": [
    {
     "name": "stdout",
     "output_type": "stream",
     "text": [
      "The proportion of users converted of control group of ab2 is (0.1203863045004612)\n"
     ]
    }
   ],
   "source": [
    "converted_control=ab2[ab2['group']=='control']['converted'].mean()\n",
    "print(\"The proportion of users converted of control group of ab2 is ({:,})\".format(converted_control))"
   ]
  },
  {
   "cell_type": "markdown",
   "metadata": {},
   "source": [
    "c. Given that an individual was in the `treatment` group, what is the probability they converted?"
   ]
  },
  {
   "cell_type": "code",
   "execution_count": 48,
   "metadata": {},
   "outputs": [
    {
     "name": "stdout",
     "output_type": "stream",
     "text": [
      "The proportion of users converted of treatment group of ab2 is (0.11880806551510564)\n"
     ]
    }
   ],
   "source": [
    "converted_treatment=ab2[ab2['group']=='treatment']['converted'].mean()\n",
    "print(\"The proportion of users converted of treatment group of ab2 is ({:,})\".format(converted_treatment))"
   ]
  },
  {
   "cell_type": "markdown",
   "metadata": {},
   "source": [
    "d. What is the probability that an individual received the new page?"
   ]
  },
  {
   "cell_type": "code",
   "execution_count": 49,
   "metadata": {},
   "outputs": [
    {
     "name": "stdout",
     "output_type": "stream",
     "text": [
      "The probability that an individual received the new page of ab2 is (0.5000619442226688)\n"
     ]
    }
   ],
   "source": [
    "print(\"The probability that an individual received the new page of ab2 is ({:,})\".format(len(ab2[ab2['landing_page']=='new_page'])/ab2.shape[0]))"
   ]
  },
  {
   "cell_type": "markdown",
   "metadata": {},
   "source": [
    "e. Consider your results from parts (a) through (d) above, and explain below whether you think there is sufficient evidence to conclude that the new treatment page leads to more conversions."
   ]
  },
  {
   "cell_type": "markdown",
   "metadata": {},
   "source": [
    "### first of all let's recall all results\n",
    "1. Number of rows of new df ab2 (290,585)\n",
    "2. The proportion of users converted is (0.11959708724499628)\n",
    "3. The proportion of users converted of __control__ group of ab2 is (0.1203863045004612)\n",
    "4. The proportion of users converted of __treatment__ group of ab2 is (0.11880806551510564)\n",
    "5. The probability that an individual __received the new page__ of ab2 is (0.5000619442226688)\n",
    "\n",
    "#### Control group (12.03%) is higher than treatment group (11.88%), but can not say that old_page is better than new_page. since we have small diffrence the other half of our dataset not received the new_page it might convert.\n"
   ]
  },
  {
   "cell_type": "markdown",
   "metadata": {},
   "source": [
    "<a id='ab_test'></a>\n",
    "### Part II - A/B Test\n",
    "\n",
    "Notice that because of the time stamp associated with each event, you could technically run a hypothesis test continuously as each observation was observed.  \n",
    "\n",
    "However, then the hard question is do you stop as soon as one page is considered significantly better than another or does it need to happen consistently for a certain amount of time?  How long do you run to render a decision that neither page is better than another?  \n",
    "\n",
    "These questions are the difficult parts associated with A/B tests in general.  \n",
    "\n",
    "\n",
    "`1.` For now, consider you need to make the decision just based on all the data provided.  If you want to assume that the old page is better unless the new page proves to be definitely better at a Type I error rate of 5%, what should your null and alternative hypotheses be?  You can state your hypothesis in terms of words or in terms of **$p_{old}$** and **$p_{new}$**, which are the converted rates for the old and new pages."
   ]
  },
  {
   "cell_type": "markdown",
   "metadata": {},
   "source": [
    "#### Based in our PART one A/B test we assume \n",
    "                                            \n",
    "                                            H0: p_old>= p_new\n",
    "                                            H1: p_old< p_new\n",
    "                                            \n",
    "__Null Hypothesis: when old page better or equal to new page__\n",
    "\n",
    "__Alternative Hypothesis: when new page better than old page.__"
   ]
  },
  {
   "cell_type": "markdown",
   "metadata": {},
   "source": [
    "`2.` Assume under the null hypothesis, $p_{new}$ and $p_{old}$ both have \"true\" success rates equal to the **converted** success rate regardless of page - that is $p_{new}$ and $p_{old}$ are equal. Furthermore, assume they are equal to the **converted** rate in **ab_data.csv** regardless of the page. <br><br>\n",
    "\n",
    "Use a sample size for each page equal to the ones in **ab_data.csv**.  <br><br>\n",
    "\n",
    "Perform the sampling distribution for the difference in **converted** between the two pages over 10,000 iterations of calculating an estimate from the null.  <br><br>\n",
    "\n",
    "Use the cells below to provide the necessary parts of this simulation.  If this doesn't make complete sense right now, don't worry - you are going to work through the problems below to complete this problem.  You can use **Quiz 5** in the classroom to make sure you are on the right track.<br><br>"
   ]
  },
  {
   "cell_type": "markdown",
   "metadata": {},
   "source": [
    "a. What is the **conversion rate** for $p_{new}$ under the null? "
   ]
  },
  {
   "cell_type": "code",
   "execution_count": 50,
   "metadata": {},
   "outputs": [
    {
     "name": "stdout",
     "output_type": "stream",
     "text": [
      "The conversion rate for  𝑝𝑛𝑒𝑤  under the null is (0.11959708724499628)\n"
     ]
    }
   ],
   "source": [
    "p_new=ab2['converted'].mean()\n",
    "print(\"The conversion rate for  𝑝𝑛𝑒𝑤  under the null is ({:,})\".format(p_new))\n"
   ]
  },
  {
   "cell_type": "markdown",
   "metadata": {},
   "source": [
    "b. What is the **conversion rate** for $p_{old}$ under the null? <br><br>"
   ]
  },
  {
   "cell_type": "code",
   "execution_count": 51,
   "metadata": {},
   "outputs": [
    {
     "name": "stdout",
     "output_type": "stream",
     "text": [
      "The conversion rate for  𝑝𝑛𝑒𝑤  under the null is (0.11959708724499628)\n"
     ]
    }
   ],
   "source": [
    "p_old=ab2['converted'].mean()\n",
    "print(\"The conversion rate for  𝑝𝑛𝑒𝑤  under the null is ({:,})\".format(p_old))"
   ]
  },
  {
   "cell_type": "markdown",
   "metadata": {},
   "source": [
    "c. What is $n_{new}$, the number of individuals in the treatment group?"
   ]
  },
  {
   "cell_type": "code",
   "execution_count": 52,
   "metadata": {},
   "outputs": [
    {
     "name": "stdout",
     "output_type": "stream",
     "text": [
      "The number of individuals in the treatment group is (145,310)\n"
     ]
    }
   ],
   "source": [
    "n_new=ab2[ab2['group']=='treatment'].shape[0]\n",
    "print(\"The number of individuals in the treatment group is ({:,})\".format(n_new))"
   ]
  },
  {
   "cell_type": "markdown",
   "metadata": {},
   "source": [
    "d. What is $n_{old}$, the number of individuals in the control group?"
   ]
  },
  {
   "cell_type": "code",
   "execution_count": 53,
   "metadata": {},
   "outputs": [
    {
     "name": "stdout",
     "output_type": "stream",
     "text": [
      "The number of individuals in the treatment group is (145,274)\n"
     ]
    }
   ],
   "source": [
    "n_old=ab2[ab2['group']=='control'].shape[0]\n",
    "print(\"The number of individuals in the treatment group is ({:,})\".format(n_old))"
   ]
  },
  {
   "cell_type": "markdown",
   "metadata": {},
   "source": [
    "e. Simulate $n_{new}$ transactions with a conversion rate of $p_{new}$ under the null.  Store these $n_{new}$ 1's and 0's in **new_page_converted**."
   ]
  },
  {
   "cell_type": "code",
   "execution_count": 54,
   "metadata": {},
   "outputs": [
    {
     "data": {
      "text/plain": [
       "array([0, 0, 0, ..., 0, 0, 0])"
      ]
     },
     "execution_count": 54,
     "metadata": {},
     "output_type": "execute_result"
    }
   ],
   "source": [
    "#we will use barnoulli to find the new_page_converted\n",
    "new_page_converted=np.random.binomial(1,p=p_new,size=n_new)\n",
    "new_page_converted"
   ]
  },
  {
   "cell_type": "markdown",
   "metadata": {},
   "source": [
    "f. Simulate $n_{old}$ transactions with a conversion rate of $p_{old}$ under the null.  Store these $n_{old}$ 1's and 0's in **old_page_converted**."
   ]
  },
  {
   "cell_type": "code",
   "execution_count": 55,
   "metadata": {},
   "outputs": [
    {
     "data": {
      "text/plain": [
       "array([0, 0, 0, ..., 0, 0, 0])"
      ]
     },
     "execution_count": 55,
     "metadata": {},
     "output_type": "execute_result"
    }
   ],
   "source": [
    "old_page_converted=np.random.binomial(1,p=p_old,size=n_old)\n",
    "old_page_converted"
   ]
  },
  {
   "cell_type": "markdown",
   "metadata": {},
   "source": [
    "g. Find $p_{new}$ - $p_{old}$ for your simulated values from part (e) and (f)."
   ]
  },
  {
   "cell_type": "code",
   "execution_count": 56,
   "metadata": {},
   "outputs": [
    {
     "name": "stdout",
     "output_type": "stream",
     "text": [
      "The diffrence 𝑝_𝑛𝑒𝑤-𝑝_𝑜𝑙𝑑 is (-0.0002431213239269675)\n"
     ]
    }
   ],
   "source": [
    "diff=new_page_converted.mean()-old_page_converted.mean()\n",
    "print(\"The diffrence 𝑝_𝑛𝑒𝑤-𝑝_𝑜𝑙𝑑 is ({:,})\".format(diff))"
   ]
  },
  {
   "cell_type": "markdown",
   "metadata": {},
   "source": [
    "h. Create 10,000 $p_{new}$ - $p_{old}$ values using the same simulation process you used in parts (a) through (g) above. Store all 10,000 values in a NumPy array called **p_diffs**."
   ]
  },
  {
   "cell_type": "code",
   "execution_count": 64,
   "metadata": {},
   "outputs": [
    {
     "data": {
      "text/plain": [
       "array([ -8.21013311e-04,  -2.35707409e-04,   3.49010139e-04,\n",
       "         4.72883238e-04,  -5.72161748e-05,   1.09904019e-03,\n",
       "        -3.60279710e-04,   2.39992601e-03,   1.61545778e-03,\n",
       "        -6.00828576e-04,  -2.01859140e-03,  -4.49573078e-04,\n",
       "         1.85966069e-05,   3.48820843e-04,  -8.00519572e-04,\n",
       "         1.17778668e-05,   2.24741394e-04,   1.63609989e-03,\n",
       "         3.76648344e-04,   2.46881432e-03,   9.20308495e-04,\n",
       "        -5.52340210e-04,  -6.83615286e-04,  -1.31000928e-03,\n",
       "         1.11278681e-03,   1.40205597e-03,  -6.90473250e-04,\n",
       "         1.12673467e-03,   1.35627091e-04,   1.21699697e-04,\n",
       "        -3.25573782e-04,   2.04523926e-04,   1.05807659e-03,\n",
       "        -1.14481786e-03,   5.41544732e-04,  -1.48174487e-03,\n",
       "        -1.24788173e-03,  -6.07845139e-04,  -2.90951416e-04,\n",
       "         6.65579841e-04,  -6.56081109e-04,   7.20711294e-04,\n",
       "         5.27784465e-04,  -1.56441562e-03,   1.75999515e-03,\n",
       "         9.61945718e-04,  -1.46615275e-04,   1.90492505e-04,\n",
       "        -4.90766905e-04,  -4.90466759e-04,   1.83740274e-04,\n",
       "        -3.25481692e-04,  -7.17697049e-04,   1.68405447e-03,\n",
       "         5.27908957e-04,  -2.52130501e-03,  -9.81030346e-05,\n",
       "        -5.66659839e-04,  -5.87441785e-04,  -1.28920175e-03,\n",
       "         1.00967519e-03,   1.21638304e-04,   4.86403048e-04,\n",
       "         3.19827900e-03,   8.16889911e-04,  -2.56260968e-03,\n",
       "        -6.90544875e-04,  -2.09461565e-03,  -2.29407472e-03,\n",
       "         3.21539345e-05,  -1.53000813e-03,   2.00790507e-03,\n",
       "         1.47077886e-03,   4.17821706e-04,   1.19671631e-05,\n",
       "        -8.46701991e-05,   9.75320571e-04,  -3.04899274e-04,\n",
       "         1.90569247e-04,  -2.08088096e-03,   2.19374882e-03,\n",
       "        -1.39946125e-03,  -1.84001149e-03,   1.29186299e-03,\n",
       "        -9.38118831e-04,   3.83270966e-04,   4.45098372e-04,\n",
       "         3.00589988e-04,  -1.92921788e-03,   1.16857767e-05,\n",
       "        -1.37189808e-03,   1.27809249e-03,   2.00786755e-03,\n",
       "        -9.51998474e-04,  -1.19485272e-04,  -9.16219582e-05,\n",
       "         4.10731812e-04,  -1.74330222e-04,   1.24396127e-03,\n",
       "        -7.31832498e-04,  -8.00688404e-04,   9.95858649e-04,\n",
       "         2.53082591e-03,  -1.43357882e-03,   1.41564059e-03,\n",
       "        -1.52999960e-03,   5.96557093e-05,  -3.26480111e-03,\n",
       "        -8.89867512e-04,  -3.46033413e-04,  -1.66775405e-03,\n",
       "         1.51205454e-03,   7.75580119e-04,  -3.31264143e-03,\n",
       "         1.28706028e-04,  -1.75042480e-03,   5.89777292e-04,\n",
       "        -4.62980333e-04,   1.69108979e-03,  -4.62983744e-04,\n",
       "        -1.21360726e-03,   1.14863903e-04,   2.31868806e-04,\n",
       "         1.56697112e-03,  -6.97273231e-04,  -1.10318746e-03,\n",
       "         1.35309891e-04,   1.20914108e-03,   1.38125186e-03,\n",
       "        -3.87679163e-04,  -2.09441100e-03,   1.43635432e-03,\n",
       "         1.03711557e-03,   2.87053125e-04,  -2.09463782e-03,\n",
       "        -1.36483718e-03,  -8.96882370e-04,  -6.21644629e-04,\n",
       "         7.35438791e-05,   1.69869158e-04,  -1.81214476e-03,\n",
       "         4.45065970e-04,  -1.42672086e-03,   1.35512831e-04,\n",
       "         1.18857742e-03,   3.85216113e-03,   1.97396514e-04,\n",
       "        -4.97672619e-04,   1.27105205e-03,   2.26920859e-03,\n",
       "        -1.24818017e-03,   3.69408377e-04,  -9.31069865e-04,\n",
       "        -9.31312028e-04,  -3.59858484e-04,   2.52527966e-04,\n",
       "        -9.85447259e-05,  -1.68854452e-03,   8.44280836e-04,\n",
       "        -7.03982827e-04,  -1.67496133e-04,  -1.52304102e-03,\n",
       "        -1.24098966e-03,  -1.32981206e-04,  -1.20671178e-03,\n",
       "         5.34905056e-04,   4.38451874e-04,   1.73256671e-03,\n",
       "        -1.50257287e-03,   9.61519375e-04,   9.88973400e-04,\n",
       "         8.05092811e-05,  -8.27980418e-04,   5.34613438e-04,\n",
       "        -1.77799649e-03,   3.07698642e-04,  -1.39234236e-03,\n",
       "         4.72705879e-04,   2.86845070e-04,   1.76710068e-04,\n",
       "        -1.72277124e-03,  -1.55766680e-03,  -1.16511548e-03,\n",
       "        -5.25217028e-04,  -8.27724612e-04,   1.14678018e-04,\n",
       "        -8.14177517e-04,   9.13523862e-04,  -1.55087876e-03,\n",
       "        -3.59991503e-04,   1.18844781e-03,   4.31585384e-04,\n",
       "        -1.45446139e-03,   8.30580258e-04,   9.40911377e-04,\n",
       "        -3.07864015e-03,   1.80813051e-03,   1.17473359e-03,\n",
       "         1.75285921e-03,   6.44878048e-04,  -2.79635515e-03,\n",
       "         6.86117919e-04,   4.17779072e-04,   6.79273599e-04,\n",
       "         3.21469141e-04,   3.35294212e-04,   8.64965576e-04,\n",
       "         3.00736650e-04,   4.86750943e-04,  -3.60148397e-04,\n",
       "         8.17348656e-04,  -5.38805052e-04,   1.80118898e-03,\n",
       "        -1.40612480e-03,  -2.12903167e-03,   7.68549913e-04,\n",
       "        -5.04451851e-05,   3.00874786e-04,  -3.87387544e-04,\n",
       "        -1.39243104e-03,   2.04298817e-04,  -8.21151446e-04,\n",
       "         6.65387134e-04,   8.16912081e-04,   2.20012076e-03,\n",
       "        -1.04121169e-03,  -9.10692092e-04,   5.98722915e-05,\n",
       "         5.07091198e-04,  -9.79317773e-04,   1.92488813e-03,\n",
       "         1.25065381e-03,  -1.86732226e-03,  -2.76911430e-03,\n",
       "         5.34903351e-04,  -5.80073915e-04,   7.38559621e-05,\n",
       "        -8.14221857e-04,  -8.07304205e-04,   2.54477490e-05,\n",
       "         2.17982342e-04,  -5.11635825e-04,   4.17506212e-04,\n",
       "         3.76592066e-04,  -5.87213265e-04,  -7.09696202e-05,\n",
       "         1.14776929e-04,  -9.31610468e-04,  -3.80550045e-04,\n",
       "         2.48929783e-03,   2.52705325e-04,  -1.25969759e-04,\n",
       "         5.41674340e-04,   2.52667806e-04,   3.21250853e-04,\n",
       "         1.05767923e-03,  -1.12403421e-03,   2.87053125e-04,\n",
       "        -5.04426555e-04,   3.00816803e-04,  -1.46495899e-04,\n",
       "        -4.49690749e-04,  -8.96839735e-04,  -7.24650513e-04,\n",
       "        -2.24575007e-03,   2.25548414e-03,  -1.45454154e-03,\n",
       "        -1.32358025e-03,   1.11982213e-03,  -1.32369792e-03,\n",
       "        -7.38716042e-04,  -2.85830705e-03,   6.24072226e-04,\n",
       "        -5.87093889e-04,   2.86779896e-03,  -2.49836036e-04,\n",
       "         8.04052534e-05,   9.06440790e-04,  -1.99111862e-03,\n",
       "         1.14721476e-03,   2.77177724e-03,   6.92996347e-04,\n",
       "         2.69575129e-03,  -1.33011903e-04,  -1.77090319e-03,\n",
       "        -7.10999390e-04,   1.77355078e-03,   1.11994321e-03,\n",
       "         1.77372302e-03,   6.17147753e-04,  -1.89496388e-03,\n",
       "        -1.39559489e-04,  -1.60542015e-03,   4.61546589e-05,\n",
       "        -7.24884149e-04,   1.68426082e-03,   1.62833836e-04,\n",
       "         8.71745377e-05,   1.07835403e-04,  -7.79401668e-04,\n",
       "        -2.08071895e-03,  -5.80612813e-04,   7.48253997e-04,\n",
       "        -5.31919803e-04,  -9.58718302e-04,   1.12657095e-03,\n",
       "        -1.56439004e-03,  -2.56765626e-04,   7.89384725e-04,\n",
       "         6.86402717e-04,   1.76676273e-03,  -9.17386340e-04,\n",
       "        -4.76609286e-04,   3.55803299e-04,   1.55960524e-04,\n",
       "        -3.32505076e-04,   6.93137893e-04,   1.33989943e-03,\n",
       "         1.00976387e-03,   1.27116802e-03,  -4.28446647e-04,\n",
       "        -2.07419695e-03,   2.89538771e-03,   6.51846860e-04,\n",
       "         1.89100931e-03,   1.10603970e-03,   5.14174271e-04,\n",
       "         2.10379889e-03,   1.58082177e-03,  -7.31772810e-04,\n",
       "        -1.57121390e-03,   1.09926359e-03,   6.58670717e-04,\n",
       "         1.71849436e-03,  -1.24104423e-03,  -1.70919175e-03,\n",
       "         9.41331183e-05,   1.59470824e-03,   5.69036275e-04,\n",
       "        -1.88017158e-04,  -1.53722223e-04,  -1.19284748e-03,\n",
       "        -3.87689395e-04,   1.18177233e-03,   8.37572946e-04,\n",
       "        -2.30108787e-03,   3.21363408e-04,   5.41643644e-04,\n",
       "        -1.45435736e-03,  -1.43357371e-03,   8.30992958e-04,\n",
       "         1.71137547e-03,  -1.57141172e-03,   7.38235601e-05,\n",
       "        -2.30112539e-03,  -6.28095009e-04,  -7.52413210e-04,\n",
       "         7.82473895e-04,  -1.17879389e-03,   1.97560229e-04,\n",
       "         7.61717530e-04,   1.14811037e-04,  -2.08466556e-04,\n",
       "        -4.42652016e-04,  -8.48859570e-04,  -5.87194506e-04,\n",
       "         3.42029389e-04,   4.93301940e-04,  -6.76677170e-04,\n",
       "        -1.02057129e-03,   1.34006144e-03,   6.51845155e-04,\n",
       "         1.90495916e-04,  -2.53480264e-03,   3.01250517e-03,\n",
       "         2.94351283e-03,  -9.86295113e-04,  -8.55707302e-04,\n",
       "        -2.75530117e-03,  -2.01719442e-04,  -4.42684418e-04,\n",
       "        -1.39136556e-04,   2.07667912e-03,  -1.02074353e-03,\n",
       "        -2.63507624e-04,   1.69094142e-03,  -2.42926912e-04,\n",
       "         1.51921436e-03,   1.16092728e-03,   2.52608118e-04,\n",
       "         1.56417564e-04,  -1.14484174e-03,   1.19554624e-03,\n",
       "        -1.40615379e-03,   5.62425590e-04,  -2.55552320e-03,\n",
       "        -6.83828458e-04,  -8.14373635e-04,  -7.11810863e-05,\n",
       "         7.13771472e-04,   7.61836906e-04,   1.90538550e-04,\n",
       "        -8.28086151e-04,   1.33316425e-03,  -1.74106818e-04,\n",
       "        -6.28391744e-04,   1.05769629e-03,  -1.60575781e-03,\n",
       "         6.24258112e-04,   4.17920618e-04,  -5.71735405e-05,\n",
       "        -1.28918641e-03,  -1.06881579e-03,   2.01446118e-03,\n",
       "         9.95706871e-04,  -3.46596185e-04,  -1.13071311e-03,\n",
       "         1.64253662e-03,   2.52669796e-05,  -7.72930824e-04,\n",
       "         1.71171996e-03,  -7.10895363e-04,   1.03052877e-03,\n",
       "         6.79635138e-04,   7.34563651e-04,   1.56024788e-03,\n",
       "        -4.35877615e-04,  -7.93523474e-04,   2.33119119e-03,\n",
       "         4.93557746e-04,   1.06494649e-03,   1.42972999e-03,\n",
       "        -1.45456712e-03,  -1.53476650e-04,  -9.17648967e-04,\n",
       "        -6.07504064e-04,   1.10588621e-03,   1.70474603e-03,\n",
       "         1.16158565e-05,   7.27454997e-04,   2.02845679e-03,\n",
       "        -1.11007953e-03,   8.71063228e-05,  -1.53616490e-04,\n",
       "        -1.37163545e-03,   9.47779573e-04,  -6.42322548e-04,\n",
       "         8.03022206e-04,  -2.57036780e-04,   5.55516465e-04,\n",
       "        -1.39776071e-04,   3.90241484e-04,  -4.01263776e-04,\n",
       "         1.96638551e-03,   4.24737652e-04,   1.20232405e-03,\n",
       "         6.17105119e-04,   1.23661557e-03,   4.58865460e-04,\n",
       "         2.81306316e-03,  -7.17787434e-04,  -1.06893687e-03,\n",
       "         2.22071511e-03,   1.25078513e-03,   1.47771527e-03,\n",
       "         2.17941413e-04,   3.00833857e-04,  -1.83266408e-03,\n",
       "         3.90226136e-04,  -1.00700884e-03,  -2.22115216e-06,\n",
       "        -1.04818903e-03,   3.23875705e-05,   9.61345427e-04,\n",
       "         3.41729243e-04,   2.16581559e-03,  -5.66555811e-04,\n",
       "         1.42877290e-04,   6.58909469e-04,  -1.74345087e-03,\n",
       "        -2.00486013e-03,   9.13295342e-04,   3.42056675e-04,\n",
       "        -3.39177154e-04,  -8.89995415e-04,   1.21778144e-04,\n",
       "         1.35436089e-04,   2.04368737e-04,   2.26200103e-03,\n",
       "         1.22280926e-03,  -5.25012383e-04,  -3.60105763e-04,\n",
       "         1.68386006e-03,   1.05785489e-03,  -1.02069066e-03,\n",
       "        -1.52990581e-03,  -2.30076555e-03,   1.00959675e-03,\n",
       "        -7.86917905e-04,   2.49640478e-03,   9.40000993e-05,\n",
       "        -1.19983335e-03,  -1.91536041e-03,  -1.05447029e-04,\n",
       "         1.39524235e-03,   1.16175619e-05,   1.34031895e-03,\n",
       "         1.28861217e-04,   7.34640392e-04,  -5.25121527e-04,\n",
       "         1.27135902e-03,   7.61961398e-04,  -2.85840255e-03,\n",
       "        -5.52706865e-04,   8.37387060e-04,  -4.35736069e-04,\n",
       "         9.75485992e-04,  -5.11530092e-04,  -8.55552113e-04,\n",
       "        -9.72869099e-04,  -1.10331707e-03,  -5.87034201e-04,\n",
       "        -1.33036830e-03,   4.86576995e-04,   1.15868652e-05,\n",
       "        -4.42414969e-04,   1.47768116e-03,  -1.08972563e-03,\n",
       "         1.87704951e-03,  -1.28252286e-03,   1.17498769e-03,\n",
       "        -9.72439345e-04,   3.35413588e-04,  -2.27882215e-05,\n",
       "         2.44135689e-03,  -2.49805340e-04,   7.00011205e-04,\n",
       "        -4.83806619e-04,  -1.00017987e-03,  -1.37874070e-03,\n",
       "        -1.23403619e-03,  -1.32341142e-03,  -1.92901835e-03,\n",
       "         9.75291580e-04,  -8.69322612e-04,  -6.42395595e-05,\n",
       "        -9.59009921e-04,  -1.61246570e-03,  -9.03800021e-04,\n",
       "        -8.76247085e-04,   1.75968307e-03,  -2.06017064e-03,\n",
       "         6.72287732e-04,  -3.80568804e-04,  -5.94083167e-04,\n",
       "        -1.64011414e-03,   1.49300383e-04,   5.55535224e-04,\n",
       "        -3.87423357e-04,  -2.01605182e-04,  -1.03466410e-03,\n",
       "         1.80794121e-03,   2.06253002e-03,  -1.24779987e-03,\n",
       "        -3.11714603e-04,  -1.75053565e-03,  -2.40415003e-03,\n",
       "         1.51224725e-03,   1.90645988e-04,   1.00947737e-03,\n",
       "         1.36088261e-03,  -2.28496149e-05,   8.44594625e-04,\n",
       "        -2.84402125e-04,   3.48825959e-04,  -1.71619637e-03,\n",
       "         4.31413141e-04,  -1.68153819e-03,   1.24384701e-03,\n",
       "         1.03713263e-03,  -2.84125854e-04,   1.15399087e-03,\n",
       "        -5.32269404e-04,   5.90103018e-04,   1.38834175e-03,\n",
       "        -1.28928361e-03,  -3.43646167e-03,  -1.81216182e-03,\n",
       "        -1.22716118e-03,   1.07140369e-03,  -1.33736269e-03,\n",
       "         2.62717847e-03,   4.58391651e-05,  -1.75039751e-03,\n",
       "         2.24927280e-04,  -4.08558315e-04,   6.38008146e-04,\n",
       "        -6.62794116e-04,   2.58581922e-03,  -7.31682425e-04,\n",
       "         2.00768337e-03,   1.42527688e-04,   4.79710505e-04,\n",
       "        -2.26208109e-06,  -2.91217454e-04,  -5.79966477e-04,\n",
       "        -2.52812545e-03,   7.20660133e-04,   1.56046446e-03,\n",
       "        -3.04831059e-04,  -5.59517078e-04,  -2.03254949e-03,\n",
       "        -1.02757932e-03,  -3.94358062e-04,   2.11090754e-03,\n",
       "         2.20728228e-03,   2.22102037e-03,  -1.70210015e-03,\n",
       "         2.11049342e-04,  -1.22064258e-03,   1.35359148e-03,\n",
       "         1.70029463e-04,   1.71886784e-03,   1.73218982e-03,\n",
       "        -2.10128091e-03,  -1.19014589e-04,  -1.26848461e-03,\n",
       "        -1.46124943e-03,  -1.74553625e-04,  -4.14969471e-04,\n",
       "         1.66353003e-03,   1.70157366e-04,  -1.31706336e-03,\n",
       "        -2.63932261e-04,  -3.04737263e-04,  -1.46108230e-03,\n",
       "        -5.32327386e-04,  -1.01408168e-03,  -3.46048761e-04,\n",
       "        -7.82607483e-05,  -1.12187322e-04,  -9.93485624e-04,\n",
       "         3.89948444e-05,  -9.58919536e-04,  -5.04665307e-04,\n",
       "         1.01197432e-04,  -2.56256534e-03,   1.09230842e-03,\n",
       "        -3.67025120e-04,   4.24498900e-04,   3.14469631e-04,\n",
       "        -1.25463396e-03,  -2.30766786e-03,  -5.24998740e-04,\n",
       "        -2.74824027e-03,  -8.00291052e-04,   2.08354390e-03,\n",
       "        -9.15230466e-05,   4.51910290e-04,   2.11354604e-04,\n",
       "         2.99174710e-03,  -1.87404380e-03,  -1.55768556e-03,\n",
       "        -1.14454841e-03,  -1.37161669e-03,  -6.83325373e-04,\n",
       "         5.00207654e-04,   4.86307547e-04,   7.35063609e-05,\n",
       "         1.14062625e-03,  -8.07258160e-04,   2.28973644e-03,\n",
       "        -1.46855733e-04,   7.89447824e-04,  -2.57123754e-04,\n",
       "         7.41198211e-04,   2.11101157e-03,   3.92216589e-05,\n",
       "        -3.73790993e-04,  -2.22259225e-04,   1.70482107e-03,\n",
       "         1.14758170e-04,  -4.07988721e-04,   7.34364122e-04,\n",
       "         2.52431044e-05,  -5.39050626e-04,  -7.08024937e-05,\n",
       "         4.38533732e-04,  -7.24468039e-04,  -8.96867021e-04,\n",
       "        -1.94310435e-03,  -1.90140914e-03,   6.38204264e-04,\n",
       "        -6.28190510e-04,   1.19548655e-03,   3.23980026e-03,\n",
       "         1.09202362e-03,   4.24500606e-04,   1.03002909e-03,\n",
       "         2.06989960e-03,  -7.59081877e-04,  -1.71595591e-03,\n",
       "         5.82909096e-04,  -7.10139599e-05,  -1.31665407e-03,\n",
       "         3.48982853e-04,   3.97138671e-04,  -1.50937114e-03,\n",
       "        -9.31378538e-04,   6.70201683e-05,  -1.05476021e-04,\n",
       "         2.34502479e-03,   8.79194821e-04,  -9.15963776e-05,\n",
       "        -3.04756023e-04,  -1.37158600e-03,  -1.54364732e-03,\n",
       "        -5.73181844e-04,   1.01118985e-04,   9.26874840e-04,\n",
       "         1.16465532e-05,   4.52131989e-04,  -1.37860768e-03,\n",
       "         1.04405028e-03,   1.73224610e-03,   1.64306188e-03,\n",
       "         1.29173338e-03,   5.00216181e-04,   1.53943353e-03,\n",
       "         9.82178535e-04,   9.45185323e-05,   2.80053616e-04,\n",
       "        -9.93197416e-04,   1.11297952e-03,  -5.66383569e-04,\n",
       "         4.76812510e-06,  -1.02772258e-03,   1.01284406e-04,\n",
       "        -1.70223317e-03,  -3.67004655e-04,  -2.78242776e-03,\n",
       "        -1.92230535e-03,  -1.23445060e-03,  -3.73864324e-04,\n",
       "         2.52736021e-04,   2.86703524e-04,   9.82137606e-04,\n",
       "         2.04627954e-04,  -2.08741491e-03,   4.38289864e-04,\n",
       "        -1.35821797e-03,   3.93239812e-05,  -9.65891759e-04,\n",
       "         2.10410244e-03,  -1.25493240e-03,  -1.44723165e-03,\n",
       "        -2.01850755e-04,   5.82864756e-04,  -6.48934938e-04,\n",
       "         1.03739355e-03,   1.22303607e-03,  -1.52326784e-03,\n",
       "        -1.35815998e-03,  -5.87146756e-04,  -2.81710129e-03,\n",
       "         7.48006718e-04,   2.03512887e-03,   5.13773509e-04,\n",
       "         1.52589496e-03,   1.18832162e-03,  -8.41493406e-04,\n",
       "        -6.35399780e-04,   1.09218052e-03,  -5.66775804e-04,\n",
       "        -3.73637510e-04,  -1.24782204e-03,   5.89857444e-04,\n",
       "        -2.51432255e-03,   1.27798505e-03,  -1.95016184e-03,\n",
       "         3.28025254e-04,  -1.67267613e-04,   6.17454720e-04,\n",
       "        -4.15087142e-04,  -1.41314307e-03,  -3.19140456e-04,\n",
       "         2.66337689e-04,  -4.56066092e-04,   1.40175753e-03,\n",
       "        -1.13084613e-03,   2.02819416e-03,   4.93325815e-04,\n",
       "        -1.29602220e-03,   8.51401427e-04,   2.48944961e-03,\n",
       "         4.24937181e-04,  -4.08154142e-04,  -2.38346017e-03,\n",
       "         8.72127096e-04,  -1.46663026e-04,   7.75731897e-04,\n",
       "        -7.72879662e-04,  -4.49474166e-04,   1.16787733e-03,\n",
       "         2.73055613e-03,  -2.21829775e-03,   3.97128439e-04,\n",
       "         1.73962761e-03,  -5.73509276e-04,   1.03721449e-03,\n",
       "         3.14176307e-04,   3.34951432e-04,  -2.91169704e-04,\n",
       "         9.20206173e-04,   1.07738196e-04,   1.25753736e-03,\n",
       "        -2.80359342e-03,   1.30560108e-03,  -1.80524417e-03,\n",
       "        -8.55344058e-04,  -2.36108171e-04,  -9.38079607e-04,\n",
       "         2.30381902e-03,   2.93996357e-04,   7.96239278e-04,\n",
       "         2.45797905e-04,  -2.96171938e-05,   5.41636822e-04,\n",
       "         3.90227841e-04,   2.11209647e-04,  -6.42208288e-04,\n",
       "         8.92772613e-04,   8.92673701e-04,  -1.92912238e-03,\n",
       "         1.97377754e-04,  -1.43359076e-03,   6.79450957e-04,\n",
       "         1.52563404e-03,   5.00524853e-04,  -1.88120531e-03,\n",
       "         4.61324891e-05,   2.25147273e-04,   2.21419311e-03,\n",
       "        -5.32117626e-04,   2.45489233e-04,  -5.80234220e-04,\n",
       "         1.07849188e-03,  -9.24344921e-04,  -8.07276919e-04,\n",
       "         1.40203721e-03,   1.35388139e-03,  -8.69412997e-04,\n",
       "         9.44076832e-05,   3.05354040e-03,   2.38863200e-04,\n",
       "         3.14447462e-04,  -7.79846770e-04,  -2.14232125e-03,\n",
       "        -2.57147629e-04,  -4.51717981e-03,   8.74098790e-05,\n",
       "        -2.10143098e-03,   1.11980167e-03,  -1.64009879e-03,\n",
       "        -1.78475725e-03,  -6.14590548e-04,  -1.87926773e-04,\n",
       "         6.17587739e-04,   4.59000184e-04,  -2.61749897e-03,\n",
       "        -2.56944547e-03,   3.55566252e-04,  -5.66395506e-04,\n",
       "        -6.76646473e-04,   1.09922096e-03,  -1.79844077e-03,\n",
       "        -6.76799957e-04,   2.79837034e-04,  -3.32326012e-04,\n",
       "         1.45688557e-03,  -5.18261858e-04,   1.04405540e-03,\n",
       "         9.89004096e-04,  -8.76144763e-04,   8.65245257e-04,\n",
       "         2.48954340e-03,   1.00269615e-03,   7.89451235e-04,\n",
       "         4.52304231e-04,  -2.02546642e-03,   1.09889352e-03,\n",
       "        -1.17887234e-03,   4.59204829e-04,   6.79249724e-04,\n",
       "        -1.28892207e-03,   9.34021011e-04,   9.06137233e-04,\n",
       "         8.44427498e-04,  -7.04129489e-04,  -1.64006298e-03,\n",
       "         1.43639525e-03,   5.69165883e-04,  -8.62572087e-04,\n",
       "        -6.35036536e-04,   2.24905110e-04,   1.97427210e-04,\n",
       "        -8.21185553e-04,  -3.11878319e-04,  -5.04213099e-05,\n",
       "        -2.07387463e-03,   2.69598151e-03,  -1.81228801e-03,\n",
       "        -5.32003366e-04,   2.43413909e-03,  -7.17937506e-04,\n",
       "        -4.63063896e-04,   2.20047377e-03,   1.92523091e-03,\n",
       "        -2.70350239e-04,   7.36052725e-05,  -7.18051766e-04,\n",
       "        -2.29407102e-04,   4.45320070e-04,   4.00358546e-03,\n",
       "         2.52454635e-04,   1.09221633e-03,  -1.06879362e-03,\n",
       "         2.34495316e-03,  -1.22744597e-03,   3.97073867e-04,\n",
       "        -9.10659690e-04,   1.50529379e-03,   1.18938321e-05,\n",
       "         1.26436633e-03,  -4.21945106e-04,   4.31225550e-04,\n",
       "         4.03991519e-04,   2.93815588e-04,  -2.06000011e-03,\n",
       "        -1.85389795e-03,  -2.30788273e-03,  -1.47512737e-03,\n",
       "        -1.50265643e-03,  -8.28026463e-04,  -1.96367312e-03,\n",
       "         2.55826117e-03,  -1.67419391e-04,  -8.34901480e-04,\n",
       "         3.97012474e-04,  -8.14230383e-04,   2.56438668e-05,\n",
       "         1.97478371e-04,  -1.48178921e-03,   4.86575290e-04,\n",
       "         1.59446096e-03,  -2.29338887e-04,   2.81982050e-03,\n",
       "        -1.85349548e-03,   6.10535363e-04,   5.96720524e-04,\n",
       "        -6.97406250e-04,   5.48428276e-04,  -2.22339378e-04,\n",
       "         1.07965011e-04,  -1.11709951e-03,   1.42053595e-04,\n",
       "         1.08115084e-04,   3.28139514e-04,  -1.61269593e-03,\n",
       "        -1.50942060e-03,  -4.49699276e-04,   1.26406277e-03,\n",
       "        -1.94621021e-04,  -7.31365226e-04,  -1.39254530e-03,\n",
       "         7.00019732e-04,   2.11450104e-04,  -4.49585016e-04,\n",
       "         8.92344564e-04,   1.43653509e-03,  -1.05274787e-04,\n",
       "        -5.32399012e-04,   7.54825459e-04,   2.25314399e-04,\n",
       "         8.44594625e-04,   9.27103360e-04,   1.97190164e-04,\n",
       "         1.64293738e-03,  -7.08468334e-05,   6.86378841e-04,\n",
       "         1.69800574e-03,  -1.26017509e-04,   1.44344080e-03,\n",
       "        -5.73474884e-05,  -1.83964142e-03,  -1.59910108e-03,\n",
       "         3.42570712e-03,  -1.90864399e-03,   8.58221873e-04,\n",
       "        -6.21571298e-04])"
      ]
     },
     "execution_count": 64,
     "metadata": {},
     "output_type": "execute_result"
    }
   ],
   "source": [
    "# same simulate as above but with 10000\n",
    "new=np.random.binomial(n_new,p=p_new,size=1000)/n_new\n",
    "old=np.random.binomial(n_old,p=p_old,size=1000)/n_old\n",
    "p_diffs=new-old\n",
    "p_diffs"
   ]
  },
  {
   "cell_type": "markdown",
   "metadata": {},
   "source": [
    "i. Plot a histogram of the **p_diffs**.  Does this plot look like what you expected?  Use the matching problem in the classroom to assure you fully understand what was computed here."
   ]
  },
  {
   "cell_type": "code",
   "execution_count": 70,
   "metadata": {},
   "outputs": [
    {
     "name": "stdout",
     "output_type": "stream",
     "text": [
      "Actual diffrence fro Part1 is:  -0.00157823898536\n"
     ]
    },
    {
     "data": {
      "image/png": "[encoded data removed]",
      "text/plain": [
       "<matplotlib.figure.Figure at 0x7f7fc0559630>"
      ]
     },
     "metadata": {
      "needs_background": "light"
     },
     "output_type": "display_data"
    }
   ],
   "source": [
    "p_diffs=np.array(p_diffs)\n",
    "plt.hist(p_diffs);\n",
    "plt.title('The diffrence between Old and New page',fontsize=15)\n",
    "plt.xlabel('Diffs')\n",
    "plt.ylabel('Numbers')\n",
    "actual=converted_treatment-converted_control\n",
    "plt.axvline((actual),color='red',label='Actual')\n",
    "plt.legend();\n",
    "print(\"Actual diffrence fro Part1 is: \",actual)"
   ]
  },
  {
   "cell_type": "markdown",
   "metadata": {},
   "source": [
    "j. What proportion of the **p_diffs** are greater than the actual difference observed in **ab_data.csv**?"
   ]
  },
  {
   "cell_type": "code",
   "execution_count": 72,
   "metadata": {},
   "outputs": [
    {
     "name": "stdout",
     "output_type": "stream",
     "text": [
      "The proportion of the p_diffs are greater than the actual difference observed in ab_data.csv is (0.9)\n"
     ]
    }
   ],
   "source": [
    "def_mean=(actual<p_diffs).mean()\n",
    "print(\"The proportion of the p_diffs are greater than the actual difference observed in ab_data.csv is ({:,})\".format(def_mean))"
   ]
  },
  {
   "cell_type": "markdown",
   "metadata": {},
   "source": [
    "k. Please explain using the vocabulary you've learned in this course what you just computed in part **j.**  What is this value called in scientific studies?  What does this value mean in terms of whether or not there is a difference between the new and old pages?"
   ]
  },
  {
   "cell_type": "markdown",
   "metadata": {},
   "source": [
    " #### Findings\n",
    " 1. def_mean what was calculated is __p-value__\n",
    " 2. p-value is high which mean our H0 or null hypothesis is fail to reject.\n"
   ]
  },
  {
   "cell_type": "markdown",
   "metadata": {},
   "source": [
    "l. We could also use a built-in to achieve similar results.  Though using the built-in might be easier to code, the above portions are a walkthrough of the ideas that are critical to correctly thinking about statistical significance. Fill in the below to calculate the number of conversions for each page, as well as the number of individuals who received each page. Let `n_old` and `n_new` refer the the number of rows associated with the old page and new pages, respectively."
   ]
  },
  {
   "cell_type": "code",
   "execution_count": 60,
   "metadata": {},
   "outputs": [
    {
     "ename": "SyntaxError",
     "evalue": "invalid syntax (<ipython-input-60-349dcc834059>, line 3)",
     "output_type": "error",
     "traceback": [
      "\u001b[0;36m  File \u001b[0;32m\"<ipython-input-60-349dcc834059>\"\u001b[0;36m, line \u001b[0;32m3\u001b[0m\n\u001b[0;31m    convert_old =\u001b[0m\n\u001b[0m                  ^\u001b[0m\n\u001b[0;31mSyntaxError\u001b[0m\u001b[0;31m:\u001b[0m invalid syntax\n"
     ]
    }
   ],
   "source": [
    "import statsmodels.api as sm\n",
    "\n",
    "convert_old = \n",
    "convert_new = \n",
    "n_old = \n",
    "n_new = "
   ]
  },
  {
   "cell_type": "markdown",
   "metadata": {},
   "source": [
    "m. Now use `stats.proportions_ztest` to compute your test statistic and p-value.  [Here](http://knowledgetack.com/python/statsmodels/proportions_ztest/) is a helpful link on using the built in."
   ]
  },
  {
   "cell_type": "code",
   "execution_count": null,
   "metadata": {},
   "outputs": [],
   "source": []
  },
  {
   "cell_type": "markdown",
   "metadata": {},
   "source": [
    "n. What do the z-score and p-value you computed in the previous question mean for the conversion rates of the old and new pages?  Do they agree with the findings in parts **j.** and **k.**?"
   ]
  },
  {
   "cell_type": "markdown",
   "metadata": {},
   "source": [
    "**Put your answer here.**"
   ]
  },
  {
   "cell_type": "markdown",
   "metadata": {},
   "source": [
    "<a id='regression'></a>\n",
    "### Part III - A regression approach\n",
    "\n",
    "`1.` In this final part, you will see that the result you achieved in the A/B test in Part II above can also be achieved by performing regression.<br><br> \n",
    "\n",
    "a. Since each row is either a conversion or no conversion, what type of regression should you be performing in this case?"
   ]
  },
  {
   "cell_type": "markdown",
   "metadata": {},
   "source": [
    "**Put your answer here.**"
   ]
  },
  {
   "cell_type": "markdown",
   "metadata": {},
   "source": [
    "b. The goal is to use **statsmodels** to fit the regression model you specified in part **a.** to see if there is a significant difference in conversion based on which page a customer receives. However, you first need to create in df2 a column for the intercept, and create a dummy variable column for which page each user received.  Add an **intercept** column, as well as an **ab_page** column, which is 1 when an individual receives the **treatment** and 0 if **control**."
   ]
  },
  {
   "cell_type": "code",
   "execution_count": null,
   "metadata": {},
   "outputs": [],
   "source": []
  },
  {
   "cell_type": "markdown",
   "metadata": {},
   "source": [
    "c. Use **statsmodels** to instantiate your regression model on the two columns you created in part b., then fit the model using the two columns you created in part **b.** to predict whether or not an individual converts. "
   ]
  },
  {
   "cell_type": "code",
   "execution_count": null,
   "metadata": {},
   "outputs": [],
   "source": []
  },
  {
   "cell_type": "markdown",
   "metadata": {},
   "source": [
    "d. Provide the summary of your model below, and use it as necessary to answer the following questions."
   ]
  },
  {
   "cell_type": "code",
   "execution_count": null,
   "metadata": {},
   "outputs": [],
   "source": []
  },
  {
   "cell_type": "markdown",
   "metadata": {},
   "source": [
    "e. What is the p-value associated with **ab_page**? Why does it differ from the value you found in **Part II**?<br><br>  **Hint**: What are the null and alternative hypotheses associated with your regression model, and how do they compare to the null and alternative hypotheses in **Part II**?"
   ]
  },
  {
   "cell_type": "markdown",
   "metadata": {},
   "source": [
    "**Put your answer here.**"
   ]
  },
  {
   "cell_type": "markdown",
   "metadata": {},
   "source": [
    "f. Now, you are considering other things that might influence whether or not an individual converts.  Discuss why it is a good idea to consider other factors to add into your regression model.  Are there any disadvantages to adding additional terms into your regression model?"
   ]
  },
  {
   "cell_type": "markdown",
   "metadata": {},
   "source": [
    "**Put your answer here.**"
   ]
  },
  {
   "cell_type": "markdown",
   "metadata": {},
   "source": [
    "g. Now along with testing if the conversion rate changes for different pages, also add an effect based on which country a user lives in. You will need to read in the **countries.csv** dataset and merge together your datasets on the appropriate rows.  [Here](https://pandas.pydata.org/pandas-docs/stable/generated/pandas.DataFrame.join.html) are the docs for joining tables. \n",
    "\n",
    "Does it appear that country had an impact on conversion?  Don't forget to create dummy variables for these country columns - **Hint: You will need two columns for the three dummy variables.** Provide the statistical output as well as a written response to answer this question."
   ]
  },
  {
   "cell_type": "code",
   "execution_count": null,
   "metadata": {},
   "outputs": [],
   "source": []
  },
  {
   "cell_type": "markdown",
   "metadata": {},
   "source": [
    "h. Though you have now looked at the individual factors of country and page on conversion, we would now like to look at an interaction between page and country to see if there significant effects on conversion.  Create the necessary additional columns, and fit the new model.  \n",
    "\n",
    "Provide the summary results, and your conclusions based on the results."
   ]
  },
  {
   "cell_type": "code",
   "execution_count": null,
   "metadata": {},
   "outputs": [],
   "source": []
  },
  {
   "cell_type": "markdown",
   "metadata": {},
   "source": [
    "<a id='conclusions'></a>\n",
    "## Finishing Up\n",
    "\n",
    "> Congratulations!  You have reached the end of the A/B Test Results project!  You should be very proud of all you have accomplished!\n",
    "\n",
    "> **Tip**: Once you are satisfied with your work here, check over your report to make sure that it is satisfies all the areas of the rubric (found on the project submission page at the end of the lesson). You should also probably remove all of the \"Tips\" like this one so that the presentation is as polished as possible.\n",
    "\n",
    "\n",
    "## Directions to Submit\n",
    "\n",
    "> Before you submit your project, you need to create a .html or .pdf version of this notebook in the workspace here. To do that, run the code cell below. If it worked correctly, you should get a return code of 0, and you should see the generated .html file in the workspace directory (click on the orange Jupyter icon in the upper left).\n",
    "\n",
    "> Alternatively, you can download this report as .html via the **File** > **Download as** submenu, and then manually upload it into the workspace directory by clicking on the orange Jupyter icon in the upper left, then using the Upload button.\n",
    "\n",
    "> Once you've done this, you can submit your project by clicking on the \"Submit Project\" button in the lower right here. This will create and submit a zip file with this .ipynb doc and the .html or .pdf version you created. Congratulations!"
   ]
  },
  {
   "cell_type": "code",
   "execution_count": null,
   "metadata": {},
   "outputs": [],
   "source": [
    "from subprocess import call\n",
    "call(['python', '-m', 'nbconvert', 'Analyze_ab_test_results_notebook.ipynb'])"
   ]
  }
 ],
 "metadata": {
  "kernelspec": {
   "display_name": "Python 3",
   "language": "python",
   "name": "python3"
  },
  "language_info": {
   "codemirror_mode": {
    "name": "ipython",
    "version": 3
   },
   "file_extension": ".py",
   "mimetype": "text/x-python",
   "name": "python",
   "nbconvert_exporter": "python",
   "pygments_lexer": "ipython3",
   "version": "3.6.3"
  }
 },
 "nbformat": 4,
 "nbformat_minor": 2
}
