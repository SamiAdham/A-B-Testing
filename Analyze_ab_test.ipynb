{
 "cells": [
  {
   "cell_type": "markdown",
   "metadata": {},
   "source": [
    "## Analyze A/B Test Results\n",
    "\n",
    "You may either submit your notebook through the workspace here, or you may work from your local machine and submit through the next page.  Either way assure that your code passes the project [RUBRIC](https://review.udacity.com/#!/projects/37e27304-ad47-4eb0-a1ab-8c12f60e43d0/rubric).  **Please save regularly.**\n",
    "\n",
    "This project will assure you have mastered the subjects covered in the statistics lessons.  The hope is to have this project be as comprehensive of these topics as possible.  Good luck!\n",
    "\n",
    "## Table of Contents\n",
    "- [Introduction](#intro)\n",
    "- [Part I - Probability](#probability)\n",
    "- [Part II - A/B Test](#ab_test)\n",
    "- [Part III - Regression](#regression)\n",
    "\n",
    "\n",
    "<a id='intro'></a>\n",
    "### Introduction\n",
    "\n",
    "A/B tests are very commonly performed by data analysts and data scientists.  It is important that you get some practice working with the difficulties of these \n",
    "\n",
    "For this project, you will be working to understand the results of an A/B test run by an e-commerce website.  Your goal is to work through this notebook to help the company understand if they should implement the new page, keep the old page, or perhaps run the experiment longer to make their decision.\n",
    "\n",
    "**As you work through this notebook, follow along in the classroom and answer the corresponding quiz questions associated with each question.** The labels for each classroom concept are provided for each question.  This will assure you are on the right track as you work through the project, and you can feel more confident in your final submission meeting the criteria.  As a final check, assure you meet all the criteria on the [RUBRIC](https://review.udacity.com/#!/projects/37e27304-ad47-4eb0-a1ab-8c12f60e43d0/rubric).\n",
    "\n",
    "<a id='probability'></a>\n",
    "#### Part I - Probability\n",
    "\n",
    "To get started, let's import our libraries."
   ]
  },
  {
   "cell_type": "code",
   "execution_count": 13,
   "metadata": {},
   "outputs": [],
   "source": [
    "import pandas as pd\n",
    "import numpy as np\n",
    "import random\n",
    "import statsmodels.api as sm\n",
    "import matplotlib.pyplot as plt\n",
    "%matplotlib inline\n",
    "#We are setting the seed to assure you get the same answers on quizzes as we set up\n",
    "random.seed(42)"
   ]
  },
  {
   "cell_type": "markdown",
   "metadata": {},
   "source": [
    "`1.` Now, read in the `ab_data.csv` data. Store it in `df`.  **Use your dataframe to answer the questions in Quiz 1 of the classroom.**\n",
    "\n",
    "a. Read in the dataset and take a look at the top few rows here:"
   ]
  },
  {
   "cell_type": "code",
   "execution_count": 14,
   "metadata": {
    "scrolled": true
   },
   "outputs": [
    {
     "data": {
      "text/html": [
       "<div>\n",
       "<style scoped>\n",
       "    .dataframe tbody tr th:only-of-type {\n",
       "        vertical-align: middle;\n",
       "    }\n",
       "\n",
       "    .dataframe tbody tr th {\n",
       "        vertical-align: top;\n",
       "    }\n",
       "\n",
       "    .dataframe thead th {\n",
       "        text-align: right;\n",
       "    }\n",
       "</style>\n",
       "<table border=\"1\" class=\"dataframe\">\n",
       "  <thead>\n",
       "    <tr style=\"text-align: right;\">\n",
       "      <th></th>\n",
       "      <th>user_id</th>\n",
       "      <th>timestamp</th>\n",
       "      <th>group</th>\n",
       "      <th>landing_page</th>\n",
       "      <th>converted</th>\n",
       "    </tr>\n",
       "  </thead>\n",
       "  <tbody>\n",
       "    <tr>\n",
       "      <td>0</td>\n",
       "      <td>851104</td>\n",
       "      <td>2017-01-21 22:11:48.556739</td>\n",
       "      <td>control</td>\n",
       "      <td>old_page</td>\n",
       "      <td>0</td>\n",
       "    </tr>\n",
       "    <tr>\n",
       "      <td>1</td>\n",
       "      <td>804228</td>\n",
       "      <td>2017-01-12 08:01:45.159739</td>\n",
       "      <td>control</td>\n",
       "      <td>old_page</td>\n",
       "      <td>0</td>\n",
       "    </tr>\n",
       "    <tr>\n",
       "      <td>2</td>\n",
       "      <td>661590</td>\n",
       "      <td>2017-01-11 16:55:06.154213</td>\n",
       "      <td>treatment</td>\n",
       "      <td>new_page</td>\n",
       "      <td>0</td>\n",
       "    </tr>\n",
       "    <tr>\n",
       "      <td>3</td>\n",
       "      <td>853541</td>\n",
       "      <td>2017-01-08 18:28:03.143765</td>\n",
       "      <td>treatment</td>\n",
       "      <td>new_page</td>\n",
       "      <td>0</td>\n",
       "    </tr>\n",
       "    <tr>\n",
       "      <td>4</td>\n",
       "      <td>864975</td>\n",
       "      <td>2017-01-21 01:52:26.210827</td>\n",
       "      <td>control</td>\n",
       "      <td>old_page</td>\n",
       "      <td>1</td>\n",
       "    </tr>\n",
       "  </tbody>\n",
       "</table>\n",
       "</div>"
      ],
      "text/plain": [
       "   user_id                   timestamp      group landing_page  converted\n",
       "0   851104  2017-01-21 22:11:48.556739    control     old_page          0\n",
       "1   804228  2017-01-12 08:01:45.159739    control     old_page          0\n",
       "2   661590  2017-01-11 16:55:06.154213  treatment     new_page          0\n",
       "3   853541  2017-01-08 18:28:03.143765  treatment     new_page          0\n",
       "4   864975  2017-01-21 01:52:26.210827    control     old_page          1"
      ]
     },
     "execution_count": 14,
     "metadata": {},
     "output_type": "execute_result"
    }
   ],
   "source": [
    "#I will import data from CSV file to pd data frame and I will check the first couple rows and i will name ab stand for A/B test\n",
    "ab=pd.read_csv('ab_data.csv')\n",
    "ab.head()"
   ]
  },
  {
   "cell_type": "markdown",
   "metadata": {},
   "source": [
    "### findings \n",
    "In the above table contain the following:\n",
    "1. user_id : should be unique\n",
    "2. timestap: time of the events\n",
    "3. group: Weather control or treatment\n",
    "4. landing_page: weather old_page or new_page\n",
    "5. converted: Yes or No which represented as 0's or 1's"
   ]
  },
  {
   "cell_type": "markdown",
   "metadata": {},
   "source": [
    "b. Use the cell below to find the number of rows in the dataset."
   ]
  },
  {
   "cell_type": "code",
   "execution_count": 15,
   "metadata": {},
   "outputs": [
    {
     "name": "stdout",
     "output_type": "stream",
     "text": [
      "Number of A/B test is: (294,478) rows\n"
     ]
    }
   ],
   "source": [
    "# number of total rows\n",
    "print(\"Number of A/B test is: ({:,})\".format(ab.shape[0]),'rows')"
   ]
  },
  {
   "cell_type": "markdown",
   "metadata": {},
   "source": [
    "c. The number of unique users in the dataset."
   ]
  },
  {
   "cell_type": "code",
   "execution_count": 16,
   "metadata": {},
   "outputs": [
    {
     "name": "stdout",
     "output_type": "stream",
     "text": [
      "Number of unique user_id is : (290,584)  rows\n"
     ]
    }
   ],
   "source": [
    "#number of unique rows\n",
    "print(\"Number of unique user_id is : ({:,}) \".format(len(ab['user_id'].unique())),'rows')"
   ]
  },
  {
   "cell_type": "markdown",
   "metadata": {
    "collapsed": true
   },
   "source": [
    "d. The proportion of users converted."
   ]
  },
  {
   "cell_type": "code",
   "execution_count": 17,
   "metadata": {},
   "outputs": [
    {
     "name": "stdout",
     "output_type": "stream",
     "text": [
      "The proportion of users converted is (0.11965919355605512)\n"
     ]
    }
   ],
   "source": [
    "# propotion of user converted \n",
    "print(\"The proportion of users converted is ({:,})\".format(ab['converted'].mean()))"
   ]
  },
  {
   "cell_type": "markdown",
   "metadata": {
    "collapsed": true
   },
   "source": [
    "e. The number of times the `new_page` and `treatment` don't match."
   ]
  },
  {
   "cell_type": "code",
   "execution_count": 18,
   "metadata": {
    "scrolled": true
   },
   "outputs": [
    {
     "name": "stdout",
     "output_type": "stream",
     "text": [
      "The number of times the new_page and treatment don't match (3,893) rows\n"
     ]
    }
   ],
   "source": [
    "# number of rows when \"group=treatment not line up with landing_page= new_page\"\n",
    "# so we will find it in the oppisit why by finding (treatment & old_page) or (cotrol & old_page) so the rest will be our output\n",
    "\n",
    "x=ab.query('(group == \"treatment\" and landing_page == \"old_page\") or (group == \"control\" and landing_page == \"new_page\")')['user_id'].count()\n",
    "print(\"The number of times the new_page and treatment don't match ({:,})\".format(x),\"rows\")"
   ]
  },
  {
   "cell_type": "markdown",
   "metadata": {},
   "source": [
    "f. Do any of the rows have missing values?"
   ]
  },
  {
   "cell_type": "code",
   "execution_count": 19,
   "metadata": {},
   "outputs": [
    {
     "data": {
      "text/plain": [
       "user_id         0\n",
       "timestamp       0\n",
       "group           0\n",
       "landing_page    0\n",
       "converted       0\n",
       "dtype: int64"
      ]
     },
     "execution_count": 19,
     "metadata": {},
     "output_type": "execute_result"
    }
   ],
   "source": [
    "#finding the number of missing data.\n",
    "ab.isnull().sum()"
   ]
  },
  {
   "cell_type": "markdown",
   "metadata": {},
   "source": [
    "The anser to question \"f\" is No, we do not have any missing data"
   ]
  },
  {
   "cell_type": "markdown",
   "metadata": {},
   "source": [
    "`2.` For the rows where **treatment** does not match with **new_page** or **control** does not match with **old_page**, we cannot be sure if this row truly received the new or old page.  Use **Quiz 2** in the classroom to figure out how we should handle these rows.  \n",
    "\n",
    "a. Now use the answer to the quiz to create a new dataset that meets the specifications from the quiz.  Store your new dataframe in **df2**."
   ]
  },
  {
   "cell_type": "code",
   "execution_count": 20,
   "metadata": {},
   "outputs": [
    {
     "name": "stdout",
     "output_type": "stream",
     "text": [
      "Number of rows of new df ab2 (290,585)\n"
     ]
    }
   ],
   "source": [
    "# first of all we need new copy of our ab data farme to work with it then extract only dataframe that hold treatment&new_page only\n",
    "ab2=ab.query('(group==\"treatment\" & landing_page==\"new_page\") or (group==\"control\" & landing_page==\"old_page\")')\n",
    "print(\"Number of rows of new df ab2 ({:,})\".format(len(ab2)))"
   ]
  },
  {
   "cell_type": "code",
   "execution_count": 21,
   "metadata": {},
   "outputs": [
    {
     "data": {
      "text/plain": [
       "0"
      ]
     },
     "execution_count": 21,
     "metadata": {},
     "output_type": "execute_result"
    }
   ],
   "source": [
    "# Double Check all of the correct rows were removed - this should be 0\n",
    "#ab2[((ab2['group'] == 'treatment') == (ab2['landing_page'] == 'new_page')) == False].shape[0]\n",
    "len(ab2.query('(group==\"treatment\" & landing_page==\"old_page\") or (group==\"control\" & landing_page==\"new_page\")'))"
   ]
  },
  {
   "cell_type": "markdown",
   "metadata": {},
   "source": [
    "`3.` Use **df2** and the cells below to answer questions for **Quiz3** in the classroom."
   ]
  },
  {
   "cell_type": "markdown",
   "metadata": {},
   "source": [
    "a. How many unique **user_id**s are in **df2**?"
   ]
  },
  {
   "cell_type": "code",
   "execution_count": 22,
   "metadata": {},
   "outputs": [
    {
     "name": "stdout",
     "output_type": "stream",
     "text": [
      "Number of unique user_id is (290,584)\n"
     ]
    }
   ],
   "source": [
    "print(\"Number of unique user_id is ({:,})\".format(ab2['user_id'].nunique()))"
   ]
  },
  {
   "cell_type": "markdown",
   "metadata": {
    "collapsed": true
   },
   "source": [
    "b. There is one **user_id** repeated in **df2**.  What is it?"
   ]
  },
  {
   "cell_type": "code",
   "execution_count": 23,
   "metadata": {},
   "outputs": [
    {
     "name": "stdout",
     "output_type": "stream",
     "text": [
      "Number of repeated usder_id after cleaning (2)\n"
     ]
    }
   ],
   "source": [
    "## find duplicated user_id\n",
    "print(\"Number of repeated usder_id after cleaning ({:,})\".format(len(ab2[ab2.duplicated(['user_id'], keep=False)]['user_id'])))"
   ]
  },
  {
   "cell_type": "markdown",
   "metadata": {},
   "source": [
    "c. What is the row information for the repeat **user_id**? "
   ]
  },
  {
   "cell_type": "code",
   "execution_count": 24,
   "metadata": {},
   "outputs": [
    {
     "data": {
      "text/html": [
       "<div>\n",
       "<style scoped>\n",
       "    .dataframe tbody tr th:only-of-type {\n",
       "        vertical-align: middle;\n",
       "    }\n",
       "\n",
       "    .dataframe tbody tr th {\n",
       "        vertical-align: top;\n",
       "    }\n",
       "\n",
       "    .dataframe thead th {\n",
       "        text-align: right;\n",
       "    }\n",
       "</style>\n",
       "<table border=\"1\" class=\"dataframe\">\n",
       "  <thead>\n",
       "    <tr style=\"text-align: right;\">\n",
       "      <th></th>\n",
       "      <th>user_id</th>\n",
       "      <th>timestamp</th>\n",
       "      <th>group</th>\n",
       "      <th>landing_page</th>\n",
       "      <th>converted</th>\n",
       "    </tr>\n",
       "  </thead>\n",
       "  <tbody>\n",
       "    <tr>\n",
       "      <td>1899</td>\n",
       "      <td>773192</td>\n",
       "      <td>2017-01-09 05:37:58.781806</td>\n",
       "      <td>treatment</td>\n",
       "      <td>new_page</td>\n",
       "      <td>0</td>\n",
       "    </tr>\n",
       "    <tr>\n",
       "      <td>2893</td>\n",
       "      <td>773192</td>\n",
       "      <td>2017-01-14 02:55:59.590927</td>\n",
       "      <td>treatment</td>\n",
       "      <td>new_page</td>\n",
       "      <td>0</td>\n",
       "    </tr>\n",
       "  </tbody>\n",
       "</table>\n",
       "</div>"
      ],
      "text/plain": [
       "      user_id                   timestamp      group landing_page  converted\n",
       "1899   773192  2017-01-09 05:37:58.781806  treatment     new_page          0\n",
       "2893   773192  2017-01-14 02:55:59.590927  treatment     new_page          0"
      ]
     },
     "execution_count": 24,
     "metadata": {},
     "output_type": "execute_result"
    }
   ],
   "source": [
    "# take a look at duplicated user_id\n",
    "ab2[ab2.duplicated(['user_id'],keep=False)]"
   ]
  },
  {
   "cell_type": "markdown",
   "metadata": {},
   "source": [
    "I assume that was human errior becouse diffrent timestamp which mean someone enter user_id twice"
   ]
  },
  {
   "cell_type": "markdown",
   "metadata": {},
   "source": [
    "d. Remove **one** of the rows with a duplicate **user_id**, but keep your dataframe as **df2**."
   ]
  },
  {
   "cell_type": "code",
   "execution_count": 25,
   "metadata": {
    "scrolled": true
   },
   "outputs": [],
   "source": [
    "ab2=ab2.drop_duplicates(['user_id'],keep='first')\n",
    "#df2.drop(2893,inplace=True)"
   ]
  },
  {
   "cell_type": "code",
   "execution_count": 26,
   "metadata": {
    "scrolled": true
   },
   "outputs": [
    {
     "data": {
      "text/plain": [
       "0"
      ]
     },
     "execution_count": 26,
     "metadata": {},
     "output_type": "execute_result"
    }
   ],
   "source": [
    "## check duplicated user_id again\n",
    "len(ab2[ab2.duplicated(['user_id'], keep=False)]['user_id'])"
   ]
  },
  {
   "cell_type": "markdown",
   "metadata": {},
   "source": [
    "`4.` Use **df2** in the cells below to answer the quiz questions related to **Quiz 4** in the classroom.\n",
    "\n",
    "a. What is the probability of an individual converting regardless of the page they receive?"
   ]
  },
  {
   "cell_type": "code",
   "execution_count": 27,
   "metadata": {},
   "outputs": [
    {
     "name": "stdout",
     "output_type": "stream",
     "text": [
      "The proportion of users converted is (0.11959708724499628)\n"
     ]
    }
   ],
   "source": [
    "# propotion of user converted \n",
    "print(\"The proportion of users converted is ({:,})\".format(ab2['converted'].mean()))\n"
   ]
  },
  {
   "cell_type": "markdown",
   "metadata": {},
   "source": [
    "b. Given that an individual was in the `control` group, what is the probability they converted?"
   ]
  },
  {
   "cell_type": "code",
   "execution_count": 28,
   "metadata": {},
   "outputs": [
    {
     "name": "stdout",
     "output_type": "stream",
     "text": [
      "The proportion of users converted of control group of ab2 is (0.1203863045004612)\n"
     ]
    }
   ],
   "source": [
    "converted_control=ab2[ab2['group']=='control']['converted'].mean()\n",
    "print(\"The proportion of users converted of control group of ab2 is ({:,})\".format(converted_control))"
   ]
  },
  {
   "cell_type": "markdown",
   "metadata": {},
   "source": [
    "c. Given that an individual was in the `treatment` group, what is the probability they converted?"
   ]
  },
  {
   "cell_type": "code",
   "execution_count": 29,
   "metadata": {},
   "outputs": [
    {
     "name": "stdout",
     "output_type": "stream",
     "text": [
      "The proportion of users converted of treatment group of ab2 is (0.11880806551510564)\n"
     ]
    }
   ],
   "source": [
    "converted_treatment=ab2[ab2['group']=='treatment']['converted'].mean()\n",
    "print(\"The proportion of users converted of treatment group of ab2 is ({:,})\".format(converted_treatment))"
   ]
  },
  {
   "cell_type": "markdown",
   "metadata": {},
   "source": [
    "d. What is the probability that an individual received the new page?"
   ]
  },
  {
   "cell_type": "code",
   "execution_count": 30,
   "metadata": {},
   "outputs": [
    {
     "name": "stdout",
     "output_type": "stream",
     "text": [
      "The probability that an individual received the new page of ab2 is (0.5000619442226688)\n"
     ]
    }
   ],
   "source": [
    "print(\"The probability that an individual received the new page of ab2 is ({:,})\".format(len(ab2[ab2['landing_page']=='new_page'])/ab2.shape[0]))"
   ]
  },
  {
   "cell_type": "markdown",
   "metadata": {},
   "source": [
    "e. Consider your results from parts (a) through (d) above, and explain below whether you think there is sufficient evidence to conclude that the new treatment page leads to more conversions."
   ]
  },
  {
   "cell_type": "markdown",
   "metadata": {},
   "source": [
    "### first of all let's recall all results\n",
    "1. Number of rows of new df ab2 (290,585)\n",
    "2. The proportion of users converted is (0.11959708724499628)\n",
    "3. The proportion of users converted of __control__ group of ab2 is (0.1203863045004612)\n",
    "4. The proportion of users converted of __treatment__ group of ab2 is (0.11880806551510564)\n",
    "5. The probability that an individual __received the new page__ of ab2 is (0.5000619442226688)\n",
    "\n",
    "#### Control group (12.03%) is higher than treatment group (11.88%), but can not say that old_page is better than new_page. since we have small diffrence the other half of our dataset not received the new_page it might convert.\n"
   ]
  },
  {
   "cell_type": "markdown",
   "metadata": {},
   "source": [
    "<a id='ab_test'></a>\n",
    "### Part II - A/B Test\n",
    "\n",
    "Notice that because of the time stamp associated with each event, you could technically run a hypothesis test continuously as each observation was observed.  \n",
    "\n",
    "However, then the hard question is do you stop as soon as one page is considered significantly better than another or does it need to happen consistently for a certain amount of time?  How long do you run to render a decision that neither page is better than another?  \n",
    "\n",
    "These questions are the difficult parts associated with A/B tests in general.  \n",
    "\n",
    "\n",
    "`1.` For now, consider you need to make the decision just based on all the data provided.  If you want to assume that the old page is better unless the new page proves to be definitely better at a Type I error rate of 5%, what should your null and alternative hypotheses be?  You can state your hypothesis in terms of words or in terms of **$p_{old}$** and **$p_{new}$**, which are the converted rates for the old and new pages."
   ]
  },
  {
   "cell_type": "markdown",
   "metadata": {},
   "source": [
    "#### Based in our PART one A/B test we assume \n",
    "                                            \n",
    "                                            H0: p_old>= p_new\n",
    "                                            H1: p_old< p_new\n",
    "                                            \n",
    "__Null Hypothesis: when old page better or equal to new page__\n",
    "\n",
    "__Alternative Hypothesis: when new page better than old page.__"
   ]
  },
  {
   "cell_type": "markdown",
   "metadata": {},
   "source": [
    "`2.` Assume under the null hypothesis, $p_{new}$ and $p_{old}$ both have \"true\" success rates equal to the **converted** success rate regardless of page - that is $p_{new}$ and $p_{old}$ are equal. Furthermore, assume they are equal to the **converted** rate in **ab_data.csv** regardless of the page. <br><br>\n",
    "\n",
    "Use a sample size for each page equal to the ones in **ab_data.csv**.  <br><br>\n",
    "\n",
    "Perform the sampling distribution for the difference in **converted** between the two pages over 10,000 iterations of calculating an estimate from the null.  <br><br>\n",
    "\n",
    "Use the cells below to provide the necessary parts of this simulation.  If this doesn't make complete sense right now, don't worry - you are going to work through the problems below to complete this problem.  You can use **Quiz 5** in the classroom to make sure you are on the right track.<br><br>"
   ]
  },
  {
   "cell_type": "markdown",
   "metadata": {},
   "source": [
    "a. What is the **conversion rate** for $p_{new}$ under the null? "
   ]
  },
  {
   "cell_type": "code",
   "execution_count": 31,
   "metadata": {},
   "outputs": [
    {
     "name": "stdout",
     "output_type": "stream",
     "text": [
      "The conversion rate for  𝑝𝑛𝑒𝑤  under the null is (0.11959708724499628)\n"
     ]
    }
   ],
   "source": [
    "p_new=ab2['converted'].mean()\n",
    "print(\"The conversion rate for  𝑝𝑛𝑒𝑤  under the null is ({:,})\".format(p_new))\n"
   ]
  },
  {
   "cell_type": "markdown",
   "metadata": {},
   "source": [
    "b. What is the **conversion rate** for $p_{old}$ under the null? <br><br>"
   ]
  },
  {
   "cell_type": "code",
   "execution_count": 32,
   "metadata": {},
   "outputs": [
    {
     "name": "stdout",
     "output_type": "stream",
     "text": [
      "The conversion rate for  𝑝𝑛𝑒𝑤  under the null is (0.11959708724499628)\n"
     ]
    }
   ],
   "source": [
    "p_old=ab2['converted'].mean()\n",
    "print(\"The conversion rate for  𝑝𝑛𝑒𝑤  under the null is ({:,})\".format(p_old))"
   ]
  },
  {
   "cell_type": "markdown",
   "metadata": {},
   "source": [
    "c. What is $n_{new}$, the number of individuals in the treatment group?"
   ]
  },
  {
   "cell_type": "code",
   "execution_count": 33,
   "metadata": {},
   "outputs": [
    {
     "name": "stdout",
     "output_type": "stream",
     "text": [
      "The number of individuals in the treatment group is (145,310)\n"
     ]
    }
   ],
   "source": [
    "n_new=ab2[ab2['group']=='treatment'].shape[0]\n",
    "print(\"The number of individuals in the treatment group is ({:,})\".format(n_new))"
   ]
  },
  {
   "cell_type": "markdown",
   "metadata": {},
   "source": [
    "d. What is $n_{old}$, the number of individuals in the control group?"
   ]
  },
  {
   "cell_type": "code",
   "execution_count": 34,
   "metadata": {},
   "outputs": [
    {
     "name": "stdout",
     "output_type": "stream",
     "text": [
      "The number of individuals in the treatment group is (145,274)\n"
     ]
    }
   ],
   "source": [
    "n_old=ab2[ab2['group']=='control'].shape[0]\n",
    "print(\"The number of individuals in the treatment group is ({:,})\".format(n_old))"
   ]
  },
  {
   "cell_type": "markdown",
   "metadata": {},
   "source": [
    "e. Simulate $n_{new}$ transactions with a conversion rate of $p_{new}$ under the null.  Store these $n_{new}$ 1's and 0's in **new_page_converted**."
   ]
  },
  {
   "cell_type": "code",
   "execution_count": 35,
   "metadata": {},
   "outputs": [
    {
     "data": {
      "text/plain": [
       "array([0, 0, 0, ..., 0, 0, 0])"
      ]
     },
     "execution_count": 35,
     "metadata": {},
     "output_type": "execute_result"
    }
   ],
   "source": [
    "#we will use binomial to find the new_page_converted\n",
    "new_page_converted=np.random.binomial(1,p=p_new,size=n_new)\n",
    "new_page_converted"
   ]
  },
  {
   "cell_type": "markdown",
   "metadata": {},
   "source": [
    "f. Simulate $n_{old}$ transactions with a conversion rate of $p_{old}$ under the null.  Store these $n_{old}$ 1's and 0's in **old_page_converted**."
   ]
  },
  {
   "cell_type": "code",
   "execution_count": 36,
   "metadata": {},
   "outputs": [
    {
     "data": {
      "text/plain": [
       "array([0, 0, 0, ..., 0, 0, 0])"
      ]
     },
     "execution_count": 36,
     "metadata": {},
     "output_type": "execute_result"
    }
   ],
   "source": [
    "old_page_converted=np.random.binomial(1,p=p_old,size=n_old)\n",
    "old_page_converted"
   ]
  },
  {
   "cell_type": "markdown",
   "metadata": {},
   "source": [
    "g. Find $p_{new}$ - $p_{old}$ for your simulated values from part (e) and (f)."
   ]
  },
  {
   "cell_type": "code",
   "execution_count": 37,
   "metadata": {},
   "outputs": [
    {
     "name": "stdout",
     "output_type": "stream",
     "text": [
      "The diffrence 𝑝_𝑛𝑒𝑤-𝑝_𝑜𝑙𝑑 is (-0.0004974253398768586)\n"
     ]
    }
   ],
   "source": [
    "diff=new_page_converted.mean()-old_page_converted.mean()\n",
    "print(\"The diffrence 𝑝_𝑛𝑒𝑤-𝑝_𝑜𝑙𝑑 is ({:,})\".format(diff))"
   ]
  },
  {
   "cell_type": "markdown",
   "metadata": {},
   "source": [
    "h. Create 10,000 $p_{new}$ - $p_{old}$ values using the same simulation process you used in parts (a) through (g) above. Store all 10,000 values in a NumPy array called **p_diffs**."
   ]
  },
  {
   "cell_type": "code",
   "execution_count": 38,
   "metadata": {},
   "outputs": [
    {
     "data": {
      "text/plain": [
       "array([ 1.27816582e-03, -2.98109525e-04, -3.87460875e-04, -1.11015116e-03,\n",
       "       -1.79834868e-03,  3.35099800e-04, -9.24346626e-04,  1.84939767e-03,\n",
       "        3.92335965e-05, -9.13709843e-06, -3.87552965e-04,  3.52166233e-03,\n",
       "        1.00283599e-03,  1.18860812e-03, -9.72688330e-04,  3.69427136e-04,\n",
       "        1.71151190e-03,  5.21088512e-04,  5.48291847e-04, -3.66985896e-04,\n",
       "       -2.22576424e-04, -6.07764986e-04, -8.00366089e-04, -5.25205090e-04,\n",
       "       -2.30102989e-03,  1.38120922e-03,  4.45376347e-04, -1.24762592e-03,\n",
       "       -2.60385637e-03, -1.57806333e-03, -9.79534356e-04,  8.05877282e-05,\n",
       "       -3.87483045e-04, -1.99798852e-03,  1.08074155e-04, -3.53005636e-04,\n",
       "        1.83656711e-04, -1.87863674e-04, -5.52196959e-04, -2.41796146e-03,\n",
       "        1.14724887e-03,  2.73279215e-04,  5.95346279e-05, -1.25478403e-03,\n",
       "       -1.31000758e-03, -1.46793856e-03, -4.76890673e-04, -1.53785322e-04,\n",
       "        4.59024060e-04, -1.63331587e-03, -1.68145804e-03, -4.01378036e-04,\n",
       "        9.54438008e-04,  1.38800409e-03, -1.20644404e-03, -2.91373183e-03,\n",
       "       -2.47958422e-03,  1.82188736e-03,  5.27700902e-04, -1.65394262e-03,\n",
       "       -9.93286096e-04, -1.32411915e-03, -3.25410066e-04,  2.06938458e-03,\n",
       "       -1.73669693e-03, -2.32006373e-06,  5.69020926e-04,  1.52567327e-03,\n",
       "        3.91875515e-05,  6.38008146e-04, -6.69749286e-04,  1.35656082e-04,\n",
       "        1.35584456e-04,  7.48112452e-04,  1.69737845e-04,  2.06263917e-03,\n",
       "        2.87136689e-04, -1.06191689e-03, -1.42014940e-03, -9.45094465e-04,\n",
       "        1.53961089e-03, -5.87136524e-04,  1.27794583e-03,  4.03913072e-04,\n",
       "        2.46893881e-03, -1.41294183e-03,  4.59483089e-05, -3.32332834e-04,\n",
       "       -1.42025684e-03, -1.92940888e-03, -1.26171362e-03,  1.92495464e-03,\n",
       "        8.72853869e-05, -8.76013449e-04,  2.73239992e-04, -2.91220865e-04,\n",
       "        8.58107613e-04, -6.69853314e-04,  3.00762231e-04, -1.79172777e-03,\n",
       "        1.49305500e-04, -1.15143878e-03,  1.17483421e-03,  1.56211214e-04,\n",
       "        1.69101476e-03,  1.15271771e-05,  4.58826236e-04, -2.43078690e-04,\n",
       "        5.34707233e-04,  4.79541105e-06, -9.17645557e-04,  6.03455701e-04,\n",
       "        8.16901848e-04, -7.38385200e-04,  4.79553611e-04, -3.18560629e-04,\n",
       "        1.12675002e-03,  3.76447110e-04, -1.13774502e-03, -2.10114107e-03,\n",
       "        1.33331433e-03,  1.03008878e-03, -1.83951864e-03,  6.10448389e-04,\n",
       "        7.13754419e-04,  7.54944835e-04, -3.46275575e-04, -9.31291564e-04,\n",
       "       -6.00915550e-04, -7.03941898e-04,  6.51822985e-04,  1.40890882e-03,\n",
       "       -7.38456825e-04,  1.33301589e-03, -2.08851970e-04,  6.58510412e-04,\n",
       "        1.63596687e-03, -5.73480284e-04,  2.64779329e-03, -1.52998937e-03,\n",
       "        1.17472848e-03, -8.96732297e-04,  2.32403478e-03, -1.75015705e-03,\n",
       "        1.11983748e-03,  4.86732184e-04,  9.47757403e-04,  6.58716762e-04,\n",
       "        2.66121419e-03, -3.32385700e-04, -3.32566470e-04, -7.86685974e-04,\n",
       "       -1.43389602e-03, -4.69957673e-04, -3.65604260e-05,  2.53760031e-03,\n",
       "        2.59947205e-03, -2.24232719e-05,  1.45033458e-03, -1.60276631e-04,\n",
       "        1.38140193e-03,  1.61501609e-03, -3.39187387e-04, -2.63127970e-03,\n",
       "       -1.49573196e-03, -9.19971400e-05, -2.97537846e-03, -1.23436874e-03,\n",
       "        8.06218357e-05,  2.72346623e-03, -6.21569593e-04,  1.31958305e-03,\n",
       "        2.38771110e-04,  2.25550801e-03, -5.18336894e-04,  1.97992238e-03,\n",
       "       -1.46124602e-03,  7.68430537e-04, -1.39844286e-04, -5.59464212e-04,\n",
       "        1.86319886e-03, -1.23404643e-03, -9.17473314e-04,  2.11346077e-04,\n",
       "       -1.96379420e-03, -7.31829087e-04,  1.00283769e-03,  1.04413214e-03,\n",
       "       -1.53680982e-03,  4.60779172e-05, -2.00491470e-03, -1.08927542e-03,\n",
       "       -3.51243475e-03, -3.32498255e-04,  6.10335834e-04,  1.81493560e-03,\n",
       "       -7.52368870e-04, -7.24805702e-04, -2.35925697e-04,  2.86111665e-03,\n",
       "        7.13623105e-04,  1.15455535e-03, -1.40618619e-03,  5.21076574e-04,\n",
       "       -1.67144827e-04, -9.82241160e-05,  1.69095677e-03, -1.85353641e-03,\n",
       "        3.27409179e-03,  5.21061226e-04, -2.07358131e-03,  1.07704089e-04,\n",
       "       -9.03706226e-04,  6.10591640e-04, -1.59175368e-03,  7.13711784e-04,\n",
       "        1.35417330e-04, -2.98928198e-03,  1.45010265e-03,  1.82161621e-03,\n",
       "        4.52174623e-04, -1.60572882e-03,  1.28774243e-04, -1.59214591e-03,\n",
       "        4.78858956e-06, -1.59880094e-03,  2.93564898e-04,  1.53287230e-03,\n",
       "        1.60153891e-03,  1.76664847e-03,  1.14657838e-05, -1.53011216e-03,\n",
       "       -6.97300517e-04,  9.47687483e-04,  4.90455485e-06,  2.52389831e-04,\n",
       "       -3.66927913e-04, -1.03443729e-03, -3.22322698e-03, -1.24086346e-03,\n",
       "        3.41928772e-04, -1.17913667e-03,  4.31314031e-03,  8.16939367e-04,\n",
       "        2.52408590e-04,  1.89743070e-03,  2.29683145e-03, -1.44765800e-03,\n",
       "        1.76459378e-04,  1.55314775e-03, -1.59874637e-03,  2.31763215e-03,\n",
       "        4.45117131e-04,  9.89247965e-04,  5.55431197e-04, -4.63570392e-04,\n",
       "       -1.38544006e-03, -1.33059170e-03,  4.86438860e-04,  1.15389878e-03,\n",
       "        6.38153103e-04, -1.04832205e-03, -6.07613208e-04,  1.45700836e-03,\n",
       "       -1.79836574e-03,  8.65385098e-04, -3.18743104e-04, -8.76163522e-04,\n",
       "        8.92607192e-04,  6.79282126e-04, -3.46659284e-04, -3.18848837e-04,\n",
       "        9.82156365e-04,  1.14821269e-04, -9.44940981e-04, -1.46128183e-03,\n",
       "       -1.98069472e-06,  1.49162220e-03, -4.42421790e-04,  6.10589935e-04,\n",
       "        3.55709503e-04,  2.42738345e-03,  3.18691374e-05, -9.31225054e-04,\n",
       "        7.20665249e-04,  4.62279899e-05,  1.13352612e-03, -6.69360461e-04,\n",
       "       -1.81901637e-03,  1.56040819e-03, -9.80110771e-04,  2.47566546e-03,\n",
       "       -8.41728747e-04,  4.24691607e-04,  3.00566113e-04,  3.62490725e-04,\n",
       "        2.73062633e-04, -5.71530760e-05, -2.08742002e-03,  1.13364550e-03,\n",
       "       -9.65577971e-04, -5.38924428e-04,  6.99852606e-04,  5.27883377e-04,\n",
       "       -4.35846919e-04,  8.99454923e-04,  6.03786543e-04,  3.35316382e-04,\n",
       "        1.69964659e-04,  6.65506510e-04,  4.52191677e-04,  3.69555039e-04,\n",
       "       -7.59071645e-04,  1.19559569e-03, -2.01492627e-04, -1.37159964e-03,\n",
       "        1.42927124e-03, -1.00684172e-03, -1.08274488e-03,  4.79493923e-04,\n",
       "       -6.69773161e-04, -5.04298368e-05, -1.53548275e-04, -1.11705005e-03,\n",
       "       -3.66840939e-04, -1.55738200e-03, -2.55542770e-03,  3.83460262e-04,\n",
       "        1.51913080e-03,  1.23685091e-03,  3.09502584e-03,  4.52084238e-04,\n",
       "        1.45721471e-03,  9.40993235e-04, -4.15136598e-04,  1.31945515e-03,\n",
       "       -5.66482480e-04,  2.45409080e-04,  1.04367510e-03,  2.04327808e-04,\n",
       "       -1.58620430e-05, -1.01391967e-03,  2.25241068e-04,  9.68225561e-04,\n",
       "       -5.45787508e-04,  5.62473340e-04,  3.41809396e-04,  3.76326028e-04,\n",
       "        3.91636763e-05, -2.23902171e-03, -1.67458615e-04,  9.68517180e-04,\n",
       "        1.28753779e-04,  1.29187322e-03, -9.58488077e-04,  1.53965523e-03,\n",
       "       -7.04149953e-04, -6.00864388e-04, -1.15121026e-03,  8.71995783e-04,\n",
       "       -7.31559638e-04, -1.17202290e-03, -2.29161244e-05, -1.22040554e-03,\n",
       "       -1.04152207e-03, -1.37851218e-03,  1.16106542e-03, -2.29066028e-04,\n",
       "        2.27612454e-03,  1.19546438e-03,  8.73331373e-05, -9.31492798e-04,\n",
       "        2.17289184e-03, -1.19188537e-04,  7.68807424e-04,  5.25317076e-05,\n",
       "       -2.22506504e-04, -1.67497839e-04,  1.05800496e-03, -1.09647275e-03,\n",
       "        5.41631706e-04,  8.58419696e-04, -6.69319532e-04,  8.92433244e-04,\n",
       "        2.04199365e-03, -2.42497802e-03,  1.95945763e-03,  8.85677602e-04,\n",
       "       -1.26037974e-04, -1.79165614e-03,  1.34027461e-03, -7.24696558e-04,\n",
       "       -1.19961677e-03,  1.82708809e-05,  1.36070013e-03,  2.42736298e-03,\n",
       "        9.13290226e-04,  1.58753307e-03, -9.17643851e-04,  1.19546608e-03,\n",
       "        1.74619737e-03,  9.61195355e-04,  1.84969099e-03,  2.04399434e-04,\n",
       "        4.72910524e-04,  1.31274726e-03,  5.48448741e-04, -4.70358435e-04,\n",
       "        5.30006849e-05,  8.73348427e-05,  1.04403834e-03,  2.38916066e-04,\n",
       "        1.58098719e-03, -1.45438294e-03, -7.66168361e-04,  1.25052932e-03,\n",
       "        1.38141046e-03, -4.42675891e-04,  2.17970404e-04, -9.14752962e-05,\n",
       "        1.49655101e-04, -3.67787137e-05,  1.69951016e-04, -9.52078626e-04,\n",
       "        5.07370879e-04,  1.82869417e-03,  1.35596394e-04,  5.48638037e-04,\n",
       "        6.03402834e-04, -2.26647573e-03, -1.27527266e-03, -5.93924567e-04,\n",
       "       -3.18690237e-04,  1.14053927e-03,  5.89620398e-04,  1.43618549e-03,\n",
       "        7.48148264e-04,  1.17483421e-03, -7.66139369e-04, -3.59802206e-04,\n",
       "        2.92998450e-03,  3.28248657e-04, -5.86971102e-04, -8.48861276e-04,\n",
       "       -1.08275341e-03, -2.58326714e-03,  7.06761731e-04,  6.58682654e-04,\n",
       "        4.61955878e-05,  2.32076862e-04,  4.93124581e-04,  2.77168515e-03,\n",
       "       -6.97356794e-04, -1.18609696e-03,  2.87111108e-04,  1.76679371e-04,\n",
       "        1.31287175e-03,  5.76078418e-04,  1.69980007e-04, -2.09424899e-03,\n",
       "       -5.45644257e-04,  2.50325251e-03, -1.18600828e-03, -1.35114001e-03,\n",
       "       -1.71563189e-03,  1.15408201e-05, -2.84485688e-04,  3.76489744e-04,\n",
       "       -6.39274764e-05,  1.69808419e-03,  1.33310286e-03,  2.72936436e-04,\n",
       "       -1.11032340e-03, -6.56145913e-04, -5.39023340e-04, -1.59200437e-03,\n",
       "        3.14411649e-04, -9.14565371e-05,  1.24378903e-03, -2.30095826e-03,\n",
       "       -2.81035758e-03, -5.94032005e-04,  6.51640510e-04, -7.79868940e-04,\n",
       "       -2.22375191e-04,  1.51878802e-03,  5.76092061e-04,  2.11518319e-04,\n",
       "       -8.21403841e-04, -6.76632830e-04,  2.45763798e-04, -1.24106981e-03,\n",
       "       -2.77114407e-04,  2.04237423e-04,  3.55750432e-04,  2.93963955e-04,\n",
       "        2.56523340e-03,  1.59460591e-03,  3.14542962e-04,  1.05087755e-03,\n",
       "       -1.46601632e-04, -2.08853676e-04,  3.17757721e-03,  1.83747096e-04,\n",
       "        6.03660346e-04,  1.18845805e-03, -3.73777350e-04, -7.59332567e-04,\n",
       "       -1.46775580e-04,  6.86305510e-04,  9.74875469e-04,  2.11105619e-04,\n",
       "       -6.00808111e-04, -1.09642329e-03,  9.95636951e-04,  1.29872777e-03,\n",
       "        6.24295630e-04,  8.72393419e-05,  1.76783399e-04, -1.12415870e-03,\n",
       "       -2.28701893e-03, -1.87412565e-03, -9.31294974e-04,  8.99724372e-04,\n",
       "        9.61584180e-04, -7.75956532e-05, -5.45634024e-04,  2.40665607e-03,\n",
       "       -2.56934145e-03,  7.34144129e-04, -1.81233577e-03,  1.33313356e-03,\n",
       "        1.05793674e-03, -1.02073671e-03,  3.83346002e-04,  7.61664663e-04,\n",
       "       -2.05232034e-06,  1.09899073e-03, -4.97647038e-04,  2.02844315e-03,\n",
       "        4.78858956e-06, -3.73845565e-04,  1.94568884e-03, -8.83127219e-04,\n",
       "       -9.38395101e-04,  1.35589572e-04,  1.21776439e-04, -1.37174119e-03,\n",
       "        1.49510144e-04,  1.02357189e-03,  1.63089642e-04,  7.75916077e-04,\n",
       "        3.62511190e-04,  1.31943298e-03,  3.41950942e-04,  6.58820789e-04,\n",
       "        5.30177386e-05, -7.24543075e-04,  3.51473274e-03,  1.61513546e-03,\n",
       "        2.07643184e-03, -8.55487309e-04, -1.83969941e-03, -7.11074427e-04,\n",
       "       -1.00688435e-03, -3.80744457e-04, -6.83373123e-04, -1.74328204e-03,\n",
       "       -8.76158406e-04,  4.86496843e-04, -1.17905140e-03,  1.36740291e-03,\n",
       "       -1.15137739e-03, -9.31136375e-04, -1.39770955e-04,  1.39510933e-03,\n",
       "        1.38821214e-03,  4.24628508e-04, -2.01634173e-04,  2.17965430e-03,\n",
       "       -6.69635026e-04, -2.42476314e-03,  5.41473107e-04, -1.08281139e-03,\n",
       "       -1.30276590e-03,  1.31241982e-03,  9.20148190e-04, -9.24677468e-04,\n",
       "        1.90616997e-04,  1.66355562e-03, -2.09481518e-03, -1.12376988e-03,\n",
       "        3.42252793e-04, -8.14024033e-04, -3.73971762e-04, -1.00705318e-03,\n",
       "        1.43674144e-03, -1.76385081e-03, -7.11043446e-05,  2.38629564e-04,\n",
       "        5.76354689e-04,  1.62916006e-03,  9.47890422e-04,  1.33272938e-03,\n",
       "       -1.02060881e-03,  1.35669725e-04, -1.47517512e-03, -1.33019605e-03,\n",
       "       -7.31344761e-04,  2.11064662e-03,  3.55888567e-04, -1.76370585e-03,\n",
       "        8.17024635e-04, -1.44070112e-03, -1.27540226e-03,  2.79215842e-03,\n",
       "        7.06591193e-04, -3.82169116e-03,  8.71895166e-04,  8.72244767e-04,\n",
       "       -1.77771169e-03, -1.22726691e-03, -3.65399616e-05,  1.51909157e-03,\n",
       "        1.55354340e-03, -9.25476909e-06,  2.42059029e-03,  9.45287646e-05,\n",
       "        3.90212493e-04,  3.90088001e-04, -7.77320830e-05, -1.40632433e-03,\n",
       "        3.55837406e-04,  1.36738074e-03, -2.01797889e-04, -6.42201466e-04,\n",
       "        9.61265275e-04, -4.49450291e-04,  1.76553174e-04, -1.41974352e-03,\n",
       "       -3.66868225e-04,  5.89956356e-04,  7.27487399e-04,  8.44611679e-04,\n",
       "        7.61628850e-04,  5.20998127e-04,  3.96925500e-04, -1.11699889e-03,\n",
       "       -8.14298598e-04,  5.34744751e-04,  7.20590212e-04, -1.61928786e-03,\n",
       "        3.60448485e-03, -7.07803239e-05,  1.56015579e-03, -1.53672284e-03,\n",
       "        1.64252980e-03, -6.01261740e-04,  1.15169449e-05, -7.45297735e-04,\n",
       "        2.02143340e-03,  2.39992090e-03, -1.15866340e-03,  1.51888352e-03,\n",
       "        4.03967644e-04,  9.13242476e-04, -8.82992494e-04, -4.90823182e-04,\n",
       "        2.59443912e-04,  5.34804439e-04,  1.18179450e-03, -1.92194210e-03,\n",
       "        4.61819448e-05, -1.33059511e-03, -1.13788486e-03,  1.79422528e-03,\n",
       "       -6.21697496e-04,  1.60150481e-03,  2.52570600e-04, -1.90182355e-03,\n",
       "        1.67718286e-03,  8.71912219e-04, -1.82615231e-03,  1.80821237e-03,\n",
       "        4.24265264e-04, -6.42017286e-04, -8.96868727e-04,  6.58227320e-04,\n",
       "        9.54611956e-04,  1.00273708e-03,  4.04059734e-04, -1.64705055e-03,\n",
       "        1.08529015e-03,  7.47994781e-04,  7.75470975e-04, -3.66852877e-04,\n",
       "       -9.10617056e-04, -4.15153652e-04, -1.75052541e-03,  1.33979711e-03,\n",
       "        5.21069753e-04, -1.39818705e-04,  1.73894205e-03,  6.92977588e-04,\n",
       "       -1.67124362e-04,  2.05593639e-03, -1.66078524e-03,  3.28095174e-04,\n",
       "        9.88947819e-04,  1.69095677e-03, -1.26003866e-04, -2.23991125e-06,\n",
       "       -4.21938284e-04, -4.22190679e-04, -3.39494353e-04,  4.86612808e-04,\n",
       "        2.73430993e-04,  4.38318855e-04, -5.87238846e-04, -1.48186255e-03,\n",
       "       -4.21835962e-04, -2.99604786e-03,  2.91603323e-03, -2.56796322e-04,\n",
       "        3.42085666e-04,  1.15049789e-04, -8.96982986e-04,  1.63238009e-04,\n",
       "        1.01650928e-03, -3.59971038e-04,  8.37561008e-04,  2.31633465e-04,\n",
       "       -7.59339388e-04, -7.17908515e-04,  1.42233313e-03, -5.87192801e-04,\n",
       "        9.19938429e-04,  2.37940328e-03,  1.25738728e-03, -1.15838883e-03,\n",
       "        1.53268471e-03,  8.37702554e-04,  1.42244057e-03,  4.17704035e-04,\n",
       "       -4.56042217e-04,  3.49015255e-04,  7.27306630e-04, -5.59774589e-04,\n",
       "        8.03214913e-04, -6.76416248e-04,  1.06476913e-03, -1.48194781e-03,\n",
       "        1.17463980e-03, -8.62364032e-04,  1.09224021e-03, -2.67936901e-03,\n",
       "        1.49160173e-03, -4.35538246e-04,  1.10610279e-03,  1.83552143e-03,\n",
       "       -1.37860427e-03, -9.59052555e-04, -7.65979064e-04,  1.42244597e-04,\n",
       "        3.16380501e-03, -1.17906164e-03, -7.72968342e-04,  1.81477359e-03,\n",
       "       -4.28709274e-04,  7.06898160e-04,  1.11273053e-03, -2.27472926e-05,\n",
       "        1.80115146e-03,  7.35643435e-05,  3.06066781e-03,  7.89171554e-04,\n",
       "        2.52454635e-04,  6.17362630e-04,  4.79693451e-04, -5.73435945e-04,\n",
       "       -1.55096573e-03, -2.14926107e-03,  1.78080268e-03, -9.51752900e-04,\n",
       "       -1.44045384e-03,  1.33989090e-03, -1.28914718e-03, -4.97544716e-04,\n",
       "       -6.83362891e-04,  6.44895101e-04,  1.84927317e-03,  1.35248498e-04,\n",
       "        4.72912229e-04, -2.70573643e-04,  1.76718595e-04,  6.79524288e-04,\n",
       "       -1.72257001e-03,  2.68179490e-03,  1.22987698e-03, -1.21325766e-03,\n",
       "        1.49460688e-04,  1.44323616e-03,  2.18129004e-04, -2.22489450e-04,\n",
       "        1.56371519e-04, -2.21150118e-03,  2.93870160e-04, -2.25102459e-05,\n",
       "       -4.49455407e-04, -2.98002087e-04,  9.82091561e-04,  2.36550829e-03,\n",
       "        9.88966578e-04,  6.44924093e-04,  1.91830644e-03, -8.00521278e-04,\n",
       "        1.13333342e-03, -2.36976130e-03, -7.93671841e-04,  5.90041625e-04,\n",
       "        5.96546576e-04, -1.15122561e-03,  5.29836312e-05, -9.23259925e-06,\n",
       "        1.03037869e-03,  3.28374855e-04, -1.72309697e-03, -1.55757471e-03,\n",
       "        2.25237657e-04,  2.17964578e-03,  1.82864642e-03, -1.12175385e-04,\n",
       "       -1.79830264e-03,  1.36055177e-03, -8.46667883e-05, -1.74171622e-04,\n",
       "        1.92520363e-03,  1.26435098e-03,  4.79289278e-04,  2.25196728e-04,\n",
       "        1.56015920e-03, -1.55737007e-03,  1.16811950e-03, -1.39564605e-04,\n",
       "        3.35108326e-04, -3.94281321e-04, -6.00714316e-04,  5.00228119e-04,\n",
       "       -1.76388833e-03, -3.42961393e-03, -8.76168638e-04,  1.56717576e-03,\n",
       "        1.35756699e-04,  1.02339283e-03,  3.69282179e-04, -6.28243376e-04,\n",
       "        3.19156429e-03,  5.98620593e-05, -3.87029890e-03, -1.94748924e-04,\n",
       "        7.61831789e-04, -5.73410364e-04, -4.97222401e-04, -2.01842229e-04,\n",
       "        7.48185782e-04, -2.67253322e-03, -2.35594646e-03,  6.65767432e-04,\n",
       "        2.15204850e-03, -1.95038837e-04, -4.90603189e-04, -2.03243353e-03,\n",
       "       -1.33013608e-04,  1.19539446e-03, -3.66632884e-04, -3.11593522e-04,\n",
       "        1.80094682e-03,  6.72410519e-04,  2.17302315e-03,  1.15056610e-04,\n",
       "        1.52575683e-03,  2.24157892e-03, -1.19079393e-04,  3.41966290e-04,\n",
       "       -2.08614924e-04,  6.66552188e-05, -9.72596240e-04, -2.82407351e-03,\n",
       "       -1.04829476e-03, -9.59216271e-04, -4.69874109e-04,  1.76661778e-03,\n",
       "       -9.58781401e-04,  6.45050290e-04,  1.09219587e-03,  4.93446897e-04,\n",
       "       -1.02087996e-03, -6.21547423e-04,  1.86295840e-03, -7.59117690e-04,\n",
       "        1.76819212e-04,  1.17483080e-03,  3.55820352e-04,  3.48551394e-04,\n",
       "       -2.30754336e-03,  3.76399359e-04,  1.37454738e-03,  5.20735500e-04,\n",
       "       -2.04620914e-03, -2.56659892e-04, -8.35020856e-04,  8.58315668e-04,\n",
       "       -2.72086980e-03,  5.55241900e-04, -2.91371307e-03, -8.55448085e-04,\n",
       "       -8.34855435e-04, -3.67047289e-04, -5.52589194e-04,  1.70483130e-03,\n",
       "       -8.14284955e-04, -2.77390678e-04, -1.86069452e-03,  8.65086658e-04,\n",
       "        5.96478361e-04,  9.61389767e-04,  1.03728952e-03, -1.30964945e-03,\n",
       "       -8.95632900e-06, -1.08945278e-03,  2.61342673e-03,  1.98689801e-03,\n",
       "        9.82060864e-04, -2.29516246e-04,  1.63125454e-04, -6.35597603e-04,\n",
       "        4.80905402e-06, -7.04195998e-04, -1.81104622e-04,  1.20917348e-03,\n",
       "       -3.94318839e-04,  8.71970202e-04,  1.58781446e-03, -5.70575752e-05,\n",
       "        1.15410513e-03, -2.98135106e-04,  4.61341944e-05, -2.11533109e-03,\n",
       "        3.27968976e-04, -1.17203143e-03, -7.10837380e-04, -1.81118265e-04,\n",
       "        1.32617327e-03, -1.19263090e-03, -5.04561279e-04, -6.90343642e-04,\n",
       "       -5.73575785e-04,  9.75274526e-04, -2.90990640e-04, -2.22502781e-03,\n",
       "        4.65835978e-04,  1.42912458e-03,  1.10618124e-03, -1.34396826e-03,\n",
       "        2.38517009e-04, -1.14448191e-03,  1.06461223e-03,  9.06549933e-04,\n",
       "       -9.93311676e-04, -5.18456270e-04, -6.01157712e-04, -4.08142205e-04,\n",
       "        8.71867880e-04, -1.12185617e-04,  3.22571598e-03, -2.78938975e-03,\n",
       "       -5.25012383e-04, -4.97805638e-04, -2.35608801e-03,  6.58583743e-04,\n",
       "       -1.38557649e-03,  1.56719282e-03,  9.68392687e-04,  6.65489457e-04,\n",
       "        9.27263665e-04, -4.90794191e-04,  3.83320422e-04, -4.56533364e-04,\n",
       "        6.65835931e-05, -5.70098248e-05,  2.45500119e-03, -1.99823921e-03,\n",
       "       -1.17218321e-03,  1.45685317e-03, -2.43063341e-04, -1.76401453e-03,\n",
       "        1.60147752e-03, -1.37166444e-03, -1.06874075e-03, -9.58893955e-04])"
      ]
     },
     "execution_count": 38,
     "metadata": {},
     "output_type": "execute_result"
    }
   ],
   "source": [
    "# same simulate as above but with 10000\n",
    "new=np.random.binomial(n_new,p=p_new,size=1000)/n_new\n",
    "old=np.random.binomial(n_old,p=p_old,size=1000)/n_old\n",
    "p_diffs=new-old\n",
    "p_diffs"
   ]
  },
  {
   "cell_type": "markdown",
   "metadata": {},
   "source": [
    "i. Plot a histogram of the **p_diffs**.  Does this plot look like what you expected?  Use the matching problem in the classroom to assure you fully understand what was computed here."
   ]
  },
  {
   "cell_type": "code",
   "execution_count": 39,
   "metadata": {},
   "outputs": [
    {
     "name": "stdout",
     "output_type": "stream",
     "text": [
      "Actual diffrence fro Part1 is:  -0.0015782389853555567\n"
     ]
    },
    {
     "data": {
      "image/png": "[encoded data removed]",
      "text/plain": [
       "<Figure size 432x288 with 1 Axes>"
      ]
     },
     "metadata": {
      "needs_background": "light"
     },
     "output_type": "display_data"
    }
   ],
   "source": [
    "p_diffs=np.array(p_diffs)\n",
    "plt.hist(p_diffs);\n",
    "plt.title('The diffrence between Old and New page',fontsize=15)\n",
    "plt.xlabel('Diffs')\n",
    "plt.ylabel('Numbers')\n",
    "actual=converted_treatment-converted_control\n",
    "plt.axvline((actual),color='red',label='Actual')\n",
    "plt.legend();\n",
    "print(\"Actual diffrence fro Part1 is: \",actual)"
   ]
  },
  {
   "cell_type": "markdown",
   "metadata": {},
   "source": [
    "j. What proportion of the **p_diffs** are greater than the actual difference observed in **ab_data.csv**?"
   ]
  },
  {
   "cell_type": "code",
   "execution_count": 40,
   "metadata": {},
   "outputs": [
    {
     "name": "stdout",
     "output_type": "stream",
     "text": [
      "The proportion of the p_diffs are greater than the actual difference observed in ab_data.csv is (0.911)\n"
     ]
    }
   ],
   "source": [
    "def_mean=(actual<p_diffs).mean()\n",
    "print(\"The proportion of the p_diffs are greater than the actual difference observed in ab_data.csv is ({:,})\".format(def_mean))"
   ]
  },
  {
   "cell_type": "markdown",
   "metadata": {},
   "source": [
    "k. Please explain using the vocabulary you've learned in this course what you just computed in part **j.**  What is this value called in scientific studies?  What does this value mean in terms of whether or not there is a difference between the new and old pages?"
   ]
  },
  {
   "cell_type": "markdown",
   "metadata": {},
   "source": [
    " #### Findings\n",
    " 1. def_mean what was calculated is __p-value__\n",
    " 2. p-value is high which mean our H0 or null hypothesis is fail to reject.\n"
   ]
  },
  {
   "cell_type": "markdown",
   "metadata": {},
   "source": [
    "l. We could also use a built-in to achieve similar results.  Though using the built-in might be easier to code, the above portions are a walkthrough of the ideas that are critical to correctly thinking about statistical significance. Fill in the below to calculate the number of conversions for each page, as well as the number of individuals who received each page. Let `n_old` and `n_new` refer the the number of rows associated with the old page and new pages, respectively."
   ]
  },
  {
   "cell_type": "code",
   "execution_count": 41,
   "metadata": {},
   "outputs": [
    {
     "name": "stdout",
     "output_type": "stream",
     "text": [
      "convert_old is 17489\n",
      "convert_new is 17264\n",
      "number of old page is 145274\n",
      "number of new page is 145310\n"
     ]
    }
   ],
   "source": [
    "import statsmodels.api as sm\n",
    "\n",
    "convert_old = ab2.query('landing_page==\"old_page\" and converted==1').shape[0]\n",
    "convert_new = ab2.query('landing_page==\"new_page\" and converted==1').shape[0]\n",
    "n_old = ab2.query('landing_page==\"old_page\"').shape[0]\n",
    "n_new = ab2.query('landing_page==\"new_page\"').shape[0]\n",
    "\n",
    "print(\"convert_old is\", convert_old)\n",
    "print(\"convert_new is\", convert_new)\n",
    "print(\"number of old page is\", n_old)\n",
    "print(\"number of new page is\", n_new)"
   ]
  },
  {
   "cell_type": "markdown",
   "metadata": {},
   "source": [
    "m. Now use `stats.proportions_ztest` to compute your test statistic and p-value.  [Here](http://knowledgetack.com/python/statsmodels/proportions_ztest/) is a helpful link on using the built in."
   ]
  },
  {
   "cell_type": "code",
   "execution_count": 42,
   "metadata": {},
   "outputs": [
    {
     "name": "stdout",
     "output_type": "stream",
     "text": [
      "Z_Score is 1.2863207858559254\n",
      "P_Value is 0.9008344344112337\n"
     ]
    }
   ],
   "source": [
    "z_score,p_value=sm.stats.proportions_ztest([convert_old,convert_new],[n_old,n_old],alternative='smaller')\n",
    "print(\"Z_Score is\",z_score)\n",
    "print(\"P_Value is\",p_value)"
   ]
  },
  {
   "cell_type": "markdown",
   "metadata": {},
   "source": [
    "n. What do the z-score and p-value you computed in the previous question mean for the conversion rates of the old and new pages?  Do they agree with the findings in parts **j.** and **k.**?"
   ]
  },
  {
   "cell_type": "markdown",
   "metadata": {},
   "source": [
    "**Put your answer here.**"
   ]
  },
  {
   "cell_type": "markdown",
   "metadata": {},
   "source": [
    "<a id='regression'></a>\n",
    "### Part III - A regression approach\n",
    "\n",
    "`1.` In this final part, you will see that the result you achieved in the A/B test in Part II above can also be achieved by performing regression.<br><br> \n",
    "\n",
    "a. Since each row is either a conversion or no conversion, what type of regression should you be performing in this case?"
   ]
  },
  {
   "cell_type": "markdown",
   "metadata": {},
   "source": [
    "The better type of regression is __Logitic Regression__ "
   ]
  },
  {
   "cell_type": "markdown",
   "metadata": {},
   "source": [
    "b. The goal is to use **statsmodels** to fit the regression model you specified in part **a.** to see if there is a significant difference in conversion based on which page a customer receives. However, you first need to create in df2 a column for the intercept, and create a dummy variable column for which page each user received.  Add an **intercept** column, as well as an **ab_page** column, which is 1 when an individual receives the **treatment** and 0 if **control**."
   ]
  },
  {
   "cell_type": "code",
   "execution_count": 43,
   "metadata": {},
   "outputs": [
    {
     "data": {
      "text/html": [
       "<div>\n",
       "<style scoped>\n",
       "    .dataframe tbody tr th:only-of-type {\n",
       "        vertical-align: middle;\n",
       "    }\n",
       "\n",
       "    .dataframe tbody tr th {\n",
       "        vertical-align: top;\n",
       "    }\n",
       "\n",
       "    .dataframe thead th {\n",
       "        text-align: right;\n",
       "    }\n",
       "</style>\n",
       "<table border=\"1\" class=\"dataframe\">\n",
       "  <thead>\n",
       "    <tr style=\"text-align: right;\">\n",
       "      <th></th>\n",
       "      <th>user_id</th>\n",
       "      <th>timestamp</th>\n",
       "      <th>group</th>\n",
       "      <th>landing_page</th>\n",
       "      <th>converted</th>\n",
       "      <th>intercept</th>\n",
       "      <th>control</th>\n",
       "      <th>treatment</th>\n",
       "    </tr>\n",
       "  </thead>\n",
       "  <tbody>\n",
       "    <tr>\n",
       "      <td>0</td>\n",
       "      <td>851104</td>\n",
       "      <td>2017-01-21 22:11:48.556739</td>\n",
       "      <td>control</td>\n",
       "      <td>old_page</td>\n",
       "      <td>0</td>\n",
       "      <td>1</td>\n",
       "      <td>1</td>\n",
       "      <td>0</td>\n",
       "    </tr>\n",
       "    <tr>\n",
       "      <td>1</td>\n",
       "      <td>804228</td>\n",
       "      <td>2017-01-12 08:01:45.159739</td>\n",
       "      <td>control</td>\n",
       "      <td>old_page</td>\n",
       "      <td>0</td>\n",
       "      <td>1</td>\n",
       "      <td>1</td>\n",
       "      <td>0</td>\n",
       "    </tr>\n",
       "    <tr>\n",
       "      <td>2</td>\n",
       "      <td>661590</td>\n",
       "      <td>2017-01-11 16:55:06.154213</td>\n",
       "      <td>treatment</td>\n",
       "      <td>new_page</td>\n",
       "      <td>0</td>\n",
       "      <td>1</td>\n",
       "      <td>0</td>\n",
       "      <td>1</td>\n",
       "    </tr>\n",
       "    <tr>\n",
       "      <td>3</td>\n",
       "      <td>853541</td>\n",
       "      <td>2017-01-08 18:28:03.143765</td>\n",
       "      <td>treatment</td>\n",
       "      <td>new_page</td>\n",
       "      <td>0</td>\n",
       "      <td>1</td>\n",
       "      <td>0</td>\n",
       "      <td>1</td>\n",
       "    </tr>\n",
       "    <tr>\n",
       "      <td>4</td>\n",
       "      <td>864975</td>\n",
       "      <td>2017-01-21 01:52:26.210827</td>\n",
       "      <td>control</td>\n",
       "      <td>old_page</td>\n",
       "      <td>1</td>\n",
       "      <td>1</td>\n",
       "      <td>1</td>\n",
       "      <td>0</td>\n",
       "    </tr>\n",
       "  </tbody>\n",
       "</table>\n",
       "</div>"
      ],
      "text/plain": [
       "   user_id                   timestamp      group landing_page  converted  \\\n",
       "0   851104  2017-01-21 22:11:48.556739    control     old_page          0   \n",
       "1   804228  2017-01-12 08:01:45.159739    control     old_page          0   \n",
       "2   661590  2017-01-11 16:55:06.154213  treatment     new_page          0   \n",
       "3   853541  2017-01-08 18:28:03.143765  treatment     new_page          0   \n",
       "4   864975  2017-01-21 01:52:26.210827    control     old_page          1   \n",
       "\n",
       "   intercept  control  treatment  \n",
       "0          1        1          0  \n",
       "1          1        1          0  \n",
       "2          1        0          1  \n",
       "3          1        0          1  \n",
       "4          1        1          0  "
      ]
     },
     "execution_count": 43,
     "metadata": {},
     "output_type": "execute_result"
    }
   ],
   "source": [
    "ab2['intercept']=1\n",
    "# creat dummey variable to use it in logit function\n",
    "ab2[['control','treatment']]=pd.get_dummies(ab2['group'])\n",
    "#Quick look as intercept and dummey variables\n",
    "ab2.head()"
   ]
  },
  {
   "cell_type": "markdown",
   "metadata": {},
   "source": [
    "c. Use **statsmodels** to instantiate your regression model on the two columns you created in part b., then fit the model using the two columns you created in part **b.** to predict whether or not an individual converts. "
   ]
  },
  {
   "cell_type": "code",
   "execution_count": 44,
   "metadata": {},
   "outputs": [
    {
     "name": "stdout",
     "output_type": "stream",
     "text": [
      "Optimization terminated successfully.\n",
      "         Current function value: 0.366118\n",
      "         Iterations 6\n"
     ]
    }
   ],
   "source": [
    "log_reg=sm.Logit(ab2['converted'],ab2[['intercept','treatment']])\n",
    "result=log_reg.fit()\n"
   ]
  },
  {
   "cell_type": "markdown",
   "metadata": {},
   "source": [
    "d. Provide the summary of your model below, and use it as necessary to answer the following questions."
   ]
  },
  {
   "cell_type": "code",
   "execution_count": 45,
   "metadata": {},
   "outputs": [
    {
     "data": {
      "text/html": [
       "<table class=\"simpletable\">\n",
       "<caption>Logit Regression Results</caption>\n",
       "<tr>\n",
       "  <th>Dep. Variable:</th>       <td>converted</td>    <th>  No. Observations:  </th>   <td>290584</td>   \n",
       "</tr>\n",
       "<tr>\n",
       "  <th>Model:</th>                 <td>Logit</td>      <th>  Df Residuals:      </th>   <td>290582</td>   \n",
       "</tr>\n",
       "<tr>\n",
       "  <th>Method:</th>                 <td>MLE</td>       <th>  Df Model:          </th>   <td>     1</td>   \n",
       "</tr>\n",
       "<tr>\n",
       "  <th>Date:</th>            <td>Fri, 11 Oct 2019</td> <th>  Pseudo R-squ.:     </th>  <td>8.077e-06</td> \n",
       "</tr>\n",
       "<tr>\n",
       "  <th>Time:</th>                <td>10:18:57</td>     <th>  Log-Likelihood:    </th> <td>-1.0639e+05</td>\n",
       "</tr>\n",
       "<tr>\n",
       "  <th>converged:</th>             <td>True</td>       <th>  LL-Null:           </th> <td>-1.0639e+05</td>\n",
       "</tr>\n",
       "<tr>\n",
       "  <th>Covariance Type:</th>     <td>nonrobust</td>    <th>  LLR p-value:       </th>   <td>0.1899</td>   \n",
       "</tr>\n",
       "</table>\n",
       "<table class=\"simpletable\">\n",
       "<tr>\n",
       "      <td></td>         <th>coef</th>     <th>std err</th>      <th>z</th>      <th>P>|z|</th>  <th>[0.025</th>    <th>0.975]</th>  \n",
       "</tr>\n",
       "<tr>\n",
       "  <th>intercept</th> <td>   -1.9888</td> <td>    0.008</td> <td> -246.669</td> <td> 0.000</td> <td>   -2.005</td> <td>   -1.973</td>\n",
       "</tr>\n",
       "<tr>\n",
       "  <th>treatment</th> <td>   -0.0150</td> <td>    0.011</td> <td>   -1.311</td> <td> 0.190</td> <td>   -0.037</td> <td>    0.007</td>\n",
       "</tr>\n",
       "</table>"
      ],
      "text/plain": [
       "<class 'statsmodels.iolib.summary.Summary'>\n",
       "\"\"\"\n",
       "                           Logit Regression Results                           \n",
       "==============================================================================\n",
       "Dep. Variable:              converted   No. Observations:               290584\n",
       "Model:                          Logit   Df Residuals:                   290582\n",
       "Method:                           MLE   Df Model:                            1\n",
       "Date:                Fri, 11 Oct 2019   Pseudo R-squ.:               8.077e-06\n",
       "Time:                        10:18:57   Log-Likelihood:            -1.0639e+05\n",
       "converged:                       True   LL-Null:                   -1.0639e+05\n",
       "Covariance Type:            nonrobust   LLR p-value:                    0.1899\n",
       "==============================================================================\n",
       "                 coef    std err          z      P>|z|      [0.025      0.975]\n",
       "------------------------------------------------------------------------------\n",
       "intercept     -1.9888      0.008   -246.669      0.000      -2.005      -1.973\n",
       "treatment     -0.0150      0.011     -1.311      0.190      -0.037       0.007\n",
       "==============================================================================\n",
       "\"\"\""
      ]
     },
     "execution_count": 45,
     "metadata": {},
     "output_type": "execute_result"
    }
   ],
   "source": [
    "result.summary()"
   ]
  },
  {
   "cell_type": "markdown",
   "metadata": {},
   "source": [
    "e. What is the p-value associated with **ab_page**? Why does it differ from the value you found in **Part II**?<br><br>  **Hint**: What are the null and alternative hypotheses associated with your regression model, and how do they compare to the null and alternative hypotheses in **Part II**?"
   ]
  },
  {
   "cell_type": "markdown",
   "metadata": {},
   "source": [
    "#### p-Value is 0.190 and yes it is differ that PART 2 p-value since we have two side test rather tahn Part2 which have one side test.\n",
    "#### Anyway p-value > 0.5 then we have fail to reject null hypothesis"
   ]
  },
  {
   "cell_type": "markdown",
   "metadata": {},
   "source": [
    "f. Now, you are considering other things that might influence whether or not an individual converts.  Discuss why it is a good idea to consider other factors to add into your regression model.  Are there any disadvantages to adding additional terms into your regression model?"
   ]
  },
  {
   "cell_type": "markdown",
   "metadata": {},
   "source": [
    "#### The dataset is limited weather client is converted or not. But there is other imported factor could lead to better decigion such as Gender, Age, Location, channel(mobile or PC)"
   ]
  },
  {
   "cell_type": "markdown",
   "metadata": {},
   "source": [
    "g. Now along with testing if the conversion rate changes for different pages, also add an effect based on which country a user lives in. You will need to read in the **countries.csv** dataset and merge together your datasets on the appropriate rows.  [Here](https://pandas.pydata.org/pandas-docs/stable/generated/pandas.DataFrame.join.html) are the docs for joining tables. \n",
    "\n",
    "Does it appear that country had an impact on conversion?  Don't forget to create dummy variables for these country columns - **Hint: You will need two columns for the three dummy variables.** Provide the statistical output as well as a written response to answer this question."
   ]
  },
  {
   "cell_type": "code",
   "execution_count": 46,
   "metadata": {},
   "outputs": [
    {
     "data": {
      "text/html": [
       "<div>\n",
       "<style scoped>\n",
       "    .dataframe tbody tr th:only-of-type {\n",
       "        vertical-align: middle;\n",
       "    }\n",
       "\n",
       "    .dataframe tbody tr th {\n",
       "        vertical-align: top;\n",
       "    }\n",
       "\n",
       "    .dataframe thead th {\n",
       "        text-align: right;\n",
       "    }\n",
       "</style>\n",
       "<table border=\"1\" class=\"dataframe\">\n",
       "  <thead>\n",
       "    <tr style=\"text-align: right;\">\n",
       "      <th></th>\n",
       "      <th>user_id</th>\n",
       "      <th>country</th>\n",
       "    </tr>\n",
       "  </thead>\n",
       "  <tbody>\n",
       "    <tr>\n",
       "      <td>0</td>\n",
       "      <td>834778</td>\n",
       "      <td>UK</td>\n",
       "    </tr>\n",
       "    <tr>\n",
       "      <td>1</td>\n",
       "      <td>928468</td>\n",
       "      <td>US</td>\n",
       "    </tr>\n",
       "    <tr>\n",
       "      <td>2</td>\n",
       "      <td>822059</td>\n",
       "      <td>UK</td>\n",
       "    </tr>\n",
       "    <tr>\n",
       "      <td>3</td>\n",
       "      <td>711597</td>\n",
       "      <td>UK</td>\n",
       "    </tr>\n",
       "    <tr>\n",
       "      <td>4</td>\n",
       "      <td>710616</td>\n",
       "      <td>UK</td>\n",
       "    </tr>\n",
       "  </tbody>\n",
       "</table>\n",
       "</div>"
      ],
      "text/plain": [
       "   user_id country\n",
       "0   834778      UK\n",
       "1   928468      US\n",
       "2   822059      UK\n",
       "3   711597      UK\n",
       "4   710616      UK"
      ]
     },
     "execution_count": 46,
     "metadata": {},
     "output_type": "execute_result"
    }
   ],
   "source": [
    "country=pd.read_csv('countries.csv')\n",
    "country.head()"
   ]
  },
  {
   "cell_type": "code",
   "execution_count": 47,
   "metadata": {},
   "outputs": [
    {
     "data": {
      "text/html": [
       "<div>\n",
       "<style scoped>\n",
       "    .dataframe tbody tr th:only-of-type {\n",
       "        vertical-align: middle;\n",
       "    }\n",
       "\n",
       "    .dataframe tbody tr th {\n",
       "        vertical-align: top;\n",
       "    }\n",
       "\n",
       "    .dataframe thead th {\n",
       "        text-align: right;\n",
       "    }\n",
       "</style>\n",
       "<table border=\"1\" class=\"dataframe\">\n",
       "  <thead>\n",
       "    <tr style=\"text-align: right;\">\n",
       "      <th></th>\n",
       "      <th>country</th>\n",
       "      <th>timestamp</th>\n",
       "      <th>group</th>\n",
       "      <th>landing_page</th>\n",
       "      <th>converted</th>\n",
       "      <th>intercept</th>\n",
       "      <th>control</th>\n",
       "      <th>treatment</th>\n",
       "    </tr>\n",
       "    <tr>\n",
       "      <th>user_id</th>\n",
       "      <th></th>\n",
       "      <th></th>\n",
       "      <th></th>\n",
       "      <th></th>\n",
       "      <th></th>\n",
       "      <th></th>\n",
       "      <th></th>\n",
       "      <th></th>\n",
       "    </tr>\n",
       "  </thead>\n",
       "  <tbody>\n",
       "    <tr>\n",
       "      <td>834778</td>\n",
       "      <td>UK</td>\n",
       "      <td>2017-01-14 23:08:43.304998</td>\n",
       "      <td>control</td>\n",
       "      <td>old_page</td>\n",
       "      <td>0</td>\n",
       "      <td>1</td>\n",
       "      <td>1</td>\n",
       "      <td>0</td>\n",
       "    </tr>\n",
       "    <tr>\n",
       "      <td>928468</td>\n",
       "      <td>US</td>\n",
       "      <td>2017-01-23 14:44:16.387854</td>\n",
       "      <td>treatment</td>\n",
       "      <td>new_page</td>\n",
       "      <td>0</td>\n",
       "      <td>1</td>\n",
       "      <td>0</td>\n",
       "      <td>1</td>\n",
       "    </tr>\n",
       "    <tr>\n",
       "      <td>822059</td>\n",
       "      <td>UK</td>\n",
       "      <td>2017-01-16 14:04:14.719771</td>\n",
       "      <td>treatment</td>\n",
       "      <td>new_page</td>\n",
       "      <td>1</td>\n",
       "      <td>1</td>\n",
       "      <td>0</td>\n",
       "      <td>1</td>\n",
       "    </tr>\n",
       "    <tr>\n",
       "      <td>711597</td>\n",
       "      <td>UK</td>\n",
       "      <td>2017-01-22 03:14:24.763511</td>\n",
       "      <td>control</td>\n",
       "      <td>old_page</td>\n",
       "      <td>0</td>\n",
       "      <td>1</td>\n",
       "      <td>1</td>\n",
       "      <td>0</td>\n",
       "    </tr>\n",
       "    <tr>\n",
       "      <td>710616</td>\n",
       "      <td>UK</td>\n",
       "      <td>2017-01-16 13:14:44.000513</td>\n",
       "      <td>treatment</td>\n",
       "      <td>new_page</td>\n",
       "      <td>0</td>\n",
       "      <td>1</td>\n",
       "      <td>0</td>\n",
       "      <td>1</td>\n",
       "    </tr>\n",
       "  </tbody>\n",
       "</table>\n",
       "</div>"
      ],
      "text/plain": [
       "        country                   timestamp      group landing_page  \\\n",
       "user_id                                                               \n",
       "834778       UK  2017-01-14 23:08:43.304998    control     old_page   \n",
       "928468       US  2017-01-23 14:44:16.387854  treatment     new_page   \n",
       "822059       UK  2017-01-16 14:04:14.719771  treatment     new_page   \n",
       "711597       UK  2017-01-22 03:14:24.763511    control     old_page   \n",
       "710616       UK  2017-01-16 13:14:44.000513  treatment     new_page   \n",
       "\n",
       "         converted  intercept  control  treatment  \n",
       "user_id                                            \n",
       "834778           0          1        1          0  \n",
       "928468           0          1        0          1  \n",
       "822059           1          1        0          1  \n",
       "711597           0          1        1          0  \n",
       "710616           0          1        0          1  "
      ]
     },
     "execution_count": 47,
     "metadata": {},
     "output_type": "execute_result"
    }
   ],
   "source": [
    "# adding counrty to our dataset using join by user_id\n",
    "ab3=country.set_index('user_id').join(ab2.set_index('user_id'),how='inner')\n",
    "ab3.head()"
   ]
  },
  {
   "cell_type": "markdown",
   "metadata": {},
   "source": [
    "h. Though you have now looked at the individual factors of country and page on conversion, we would now like to look at an interaction between page and country to see if there significant effects on conversion.  Create the necessary additional columns, and fit the new model.  \n",
    "\n",
    "Provide the summary results, and your conclusions based on the results."
   ]
  },
  {
   "cell_type": "code",
   "execution_count": 48,
   "metadata": {},
   "outputs": [
    {
     "data": {
      "text/html": [
       "<div>\n",
       "<style scoped>\n",
       "    .dataframe tbody tr th:only-of-type {\n",
       "        vertical-align: middle;\n",
       "    }\n",
       "\n",
       "    .dataframe tbody tr th {\n",
       "        vertical-align: top;\n",
       "    }\n",
       "\n",
       "    .dataframe thead th {\n",
       "        text-align: right;\n",
       "    }\n",
       "</style>\n",
       "<table border=\"1\" class=\"dataframe\">\n",
       "  <thead>\n",
       "    <tr style=\"text-align: right;\">\n",
       "      <th></th>\n",
       "      <th>country</th>\n",
       "      <th>timestamp</th>\n",
       "      <th>group</th>\n",
       "      <th>landing_page</th>\n",
       "      <th>converted</th>\n",
       "      <th>intercept</th>\n",
       "      <th>control</th>\n",
       "      <th>treatment</th>\n",
       "      <th>CA</th>\n",
       "      <th>US</th>\n",
       "    </tr>\n",
       "    <tr>\n",
       "      <th>user_id</th>\n",
       "      <th></th>\n",
       "      <th></th>\n",
       "      <th></th>\n",
       "      <th></th>\n",
       "      <th></th>\n",
       "      <th></th>\n",
       "      <th></th>\n",
       "      <th></th>\n",
       "      <th></th>\n",
       "      <th></th>\n",
       "    </tr>\n",
       "  </thead>\n",
       "  <tbody>\n",
       "    <tr>\n",
       "      <td>834778</td>\n",
       "      <td>UK</td>\n",
       "      <td>2017-01-14 23:08:43.304998</td>\n",
       "      <td>control</td>\n",
       "      <td>old_page</td>\n",
       "      <td>0</td>\n",
       "      <td>1</td>\n",
       "      <td>1</td>\n",
       "      <td>0</td>\n",
       "      <td>0</td>\n",
       "      <td>0</td>\n",
       "    </tr>\n",
       "    <tr>\n",
       "      <td>928468</td>\n",
       "      <td>US</td>\n",
       "      <td>2017-01-23 14:44:16.387854</td>\n",
       "      <td>treatment</td>\n",
       "      <td>new_page</td>\n",
       "      <td>0</td>\n",
       "      <td>1</td>\n",
       "      <td>0</td>\n",
       "      <td>1</td>\n",
       "      <td>0</td>\n",
       "      <td>1</td>\n",
       "    </tr>\n",
       "    <tr>\n",
       "      <td>822059</td>\n",
       "      <td>UK</td>\n",
       "      <td>2017-01-16 14:04:14.719771</td>\n",
       "      <td>treatment</td>\n",
       "      <td>new_page</td>\n",
       "      <td>1</td>\n",
       "      <td>1</td>\n",
       "      <td>0</td>\n",
       "      <td>1</td>\n",
       "      <td>0</td>\n",
       "      <td>0</td>\n",
       "    </tr>\n",
       "    <tr>\n",
       "      <td>711597</td>\n",
       "      <td>UK</td>\n",
       "      <td>2017-01-22 03:14:24.763511</td>\n",
       "      <td>control</td>\n",
       "      <td>old_page</td>\n",
       "      <td>0</td>\n",
       "      <td>1</td>\n",
       "      <td>1</td>\n",
       "      <td>0</td>\n",
       "      <td>0</td>\n",
       "      <td>0</td>\n",
       "    </tr>\n",
       "    <tr>\n",
       "      <td>710616</td>\n",
       "      <td>UK</td>\n",
       "      <td>2017-01-16 13:14:44.000513</td>\n",
       "      <td>treatment</td>\n",
       "      <td>new_page</td>\n",
       "      <td>0</td>\n",
       "      <td>1</td>\n",
       "      <td>0</td>\n",
       "      <td>1</td>\n",
       "      <td>0</td>\n",
       "      <td>0</td>\n",
       "    </tr>\n",
       "  </tbody>\n",
       "</table>\n",
       "</div>"
      ],
      "text/plain": [
       "        country                   timestamp      group landing_page  \\\n",
       "user_id                                                               \n",
       "834778       UK  2017-01-14 23:08:43.304998    control     old_page   \n",
       "928468       US  2017-01-23 14:44:16.387854  treatment     new_page   \n",
       "822059       UK  2017-01-16 14:04:14.719771  treatment     new_page   \n",
       "711597       UK  2017-01-22 03:14:24.763511    control     old_page   \n",
       "710616       UK  2017-01-16 13:14:44.000513  treatment     new_page   \n",
       "\n",
       "         converted  intercept  control  treatment  CA  US  \n",
       "user_id                                                    \n",
       "834778           0          1        1          0   0   0  \n",
       "928468           0          1        0          1   0   1  \n",
       "822059           1          1        0          1   0   0  \n",
       "711597           0          1        1          0   0   0  \n",
       "710616           0          1        0          1   0   0  "
      ]
     },
     "execution_count": 48,
     "metadata": {},
     "output_type": "execute_result"
    }
   ],
   "source": [
    "ab3['intercept']=1\n",
    "# creat dummey variable to use it in logit function\n",
    "ab3[['CA','US']]=pd.get_dummies(ab3['country'])[['CA','US']]\n",
    "#Quick look as intercept and dummey variables\n",
    "ab3.head()"
   ]
  },
  {
   "cell_type": "code",
   "execution_count": 49,
   "metadata": {},
   "outputs": [
    {
     "name": "stdout",
     "output_type": "stream",
     "text": [
      "Optimization terminated successfully.\n",
      "         Current function value: 0.366116\n",
      "         Iterations 6\n"
     ]
    },
    {
     "data": {
      "text/html": [
       "<table class=\"simpletable\">\n",
       "<caption>Logit Regression Results</caption>\n",
       "<tr>\n",
       "  <th>Dep. Variable:</th>       <td>converted</td>    <th>  No. Observations:  </th>   <td>290584</td>   \n",
       "</tr>\n",
       "<tr>\n",
       "  <th>Model:</th>                 <td>Logit</td>      <th>  Df Residuals:      </th>   <td>290581</td>   \n",
       "</tr>\n",
       "<tr>\n",
       "  <th>Method:</th>                 <td>MLE</td>       <th>  Df Model:          </th>   <td>     2</td>   \n",
       "</tr>\n",
       "<tr>\n",
       "  <th>Date:</th>            <td>Fri, 11 Oct 2019</td> <th>  Pseudo R-squ.:     </th>  <td>1.521e-05</td> \n",
       "</tr>\n",
       "<tr>\n",
       "  <th>Time:</th>                <td>10:18:58</td>     <th>  Log-Likelihood:    </th> <td>-1.0639e+05</td>\n",
       "</tr>\n",
       "<tr>\n",
       "  <th>converged:</th>             <td>True</td>       <th>  LL-Null:           </th> <td>-1.0639e+05</td>\n",
       "</tr>\n",
       "<tr>\n",
       "  <th>Covariance Type:</th>     <td>nonrobust</td>    <th>  LLR p-value:       </th>   <td>0.1984</td>   \n",
       "</tr>\n",
       "</table>\n",
       "<table class=\"simpletable\">\n",
       "<tr>\n",
       "      <td></td>         <th>coef</th>     <th>std err</th>      <th>z</th>      <th>P>|z|</th>  <th>[0.025</th>    <th>0.975]</th>  \n",
       "</tr>\n",
       "<tr>\n",
       "  <th>intercept</th> <td>   -1.9868</td> <td>    0.011</td> <td> -174.174</td> <td> 0.000</td> <td>   -2.009</td> <td>   -1.964</td>\n",
       "</tr>\n",
       "<tr>\n",
       "  <th>CA</th>        <td>   -0.0507</td> <td>    0.028</td> <td>   -1.786</td> <td> 0.074</td> <td>   -0.106</td> <td>    0.005</td>\n",
       "</tr>\n",
       "<tr>\n",
       "  <th>US</th>        <td>   -0.0099</td> <td>    0.013</td> <td>   -0.746</td> <td> 0.456</td> <td>   -0.036</td> <td>    0.016</td>\n",
       "</tr>\n",
       "</table>"
      ],
      "text/plain": [
       "<class 'statsmodels.iolib.summary.Summary'>\n",
       "\"\"\"\n",
       "                           Logit Regression Results                           \n",
       "==============================================================================\n",
       "Dep. Variable:              converted   No. Observations:               290584\n",
       "Model:                          Logit   Df Residuals:                   290581\n",
       "Method:                           MLE   Df Model:                            2\n",
       "Date:                Fri, 11 Oct 2019   Pseudo R-squ.:               1.521e-05\n",
       "Time:                        10:18:58   Log-Likelihood:            -1.0639e+05\n",
       "converged:                       True   LL-Null:                   -1.0639e+05\n",
       "Covariance Type:            nonrobust   LLR p-value:                    0.1984\n",
       "==============================================================================\n",
       "                 coef    std err          z      P>|z|      [0.025      0.975]\n",
       "------------------------------------------------------------------------------\n",
       "intercept     -1.9868      0.011   -174.174      0.000      -2.009      -1.964\n",
       "CA            -0.0507      0.028     -1.786      0.074      -0.106       0.005\n",
       "US            -0.0099      0.013     -0.746      0.456      -0.036       0.016\n",
       "==============================================================================\n",
       "\"\"\""
      ]
     },
     "execution_count": 49,
     "metadata": {},
     "output_type": "execute_result"
    }
   ],
   "source": [
    "log_reg2=sm.Logit(ab3['converted'],ab3[['intercept','CA','US']])\n",
    "result2=log_reg2.fit()\n",
    "result2.summary()"
   ]
  }
 ],
 "metadata": {
  "kernelspec": {
   "display_name": "Python 3",
   "language": "python",
   "name": "python3"
  },
  "language_info": {
   "codemirror_mode": {
    "name": "ipython",
    "version": 3
   },
   "file_extension": ".py",
   "mimetype": "text/x-python",
   "name": "python",
   "nbconvert_exporter": "python",
   "pygments_lexer": "ipython3",
   "version": "3.7.3"
  }
 },
 "nbformat": 4,
 "nbformat_minor": 2
}
